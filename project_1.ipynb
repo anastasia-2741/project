{
 "cells": [
  {
   "cell_type": "markdown",
   "metadata": {},
   "source": [
    "# Проект e-commerce: вариант 1"
   ]
  },
  {
   "cell_type": "markdown",
   "metadata": {},
   "source": [
    "1. Сколько у нас пользователей, которые совершили покупку только один раз? \n",
    "\n",
    "2. Сколько заказов в месяц в среднем не доставляется по разным причинам (вывести детализацию по причинам)? \n",
    "\n",
    "3. По каждому товару определить, в какой день недели товар чаще всего покупается. \n",
    "\n",
    "4. Сколько у каждого из пользователей в среднем покупок в неделю (по месяцам)? Не стоит забывать, что внутри месяца может быть не целое количество недель. Например, в ноябре 2021 года 4,28 недели. И внутри метрики это нужно учесть. \n",
    "\n",
    "5. Напиши функцию на python, позволяющую строить когортный анализ. В период с января по декабрь выяви когорту с самым высоким retention на 3-й месяц. \n",
    "\n",
    "6. Построй RFM-кластеры для пользователей. Выведи для каждого кластера средние значения метрик R, F, M (и опиши подробно, как были построены метрики R, F, M). \n"
   ]
  },
  {
   "cell_type": "markdown",
   "metadata": {},
   "source": [
    "Файлы:\n",
    "\n",
    "olist_customers_datase.csv — таблица с уникальными идентификаторами пользователей:\n",
    "\n",
    "- customer_id — позаказный идентификатор пользователя (аналог номера паспорта)\n",
    "- customer_unique_id —  уникальный идентификатор пользователя\n",
    "- customer_zip_code_prefix —  почтовый индекс пользователя\n",
    "- customer_city —  город доставки пользователя\n",
    "- customer_state —  штат доставки пользователя\n",
    "\n",
    "olist_orders_dataset.csv —  таблица заказов:\n",
    "\n",
    "- order_id —  уникальный идентификатор заказа (номер чека)\n",
    "- customer_id —  позаказный идентификатор пользователя (аналог номера паспорта)\n",
    "- order_status —  статус заказа\n",
    "- order_purchase_timestamp —  время создания заказа\n",
    "- order_approved_at —  время подтверждения оплаты заказа\n",
    "- order_delivered_carrier_date —  время передачи заказа в логистическую службу\n",
    "- order_delivered_customer_date —  время доставки заказа\n",
    "- order_estimated_delivery_date —  обещанная дата доставки\n",
    "\n",
    "olist_order_items_dataset.csv —  товарные позиции, входящие в заказы:\n",
    "\n",
    "- order_id —  уникальный идентификатор заказа (номер чека)\n",
    "- order_item_id —  идентификатор товара внутри одного заказа\n",
    "- product_id —  ид товара (аналог штрихкода)\n",
    "- seller_id — ид производителя товара\n",
    "- shipping_limit_date —  максимальная дата доставки продавцом для передачи заказа партнеру по логистике\n",
    "- price —  цена за единицу товара\n",
    "- freight_value —  вес товара\n"
   ]
  },
  {
   "cell_type": "code",
   "execution_count": 1,
   "metadata": {},
   "outputs": [],
   "source": [
    "# импорт библиотек\n",
    "import pandas as pd\n",
    "import numpy as np\n",
    "import seaborn as sns \n",
    "import datetime as dt \n",
    "from operator import attrgetter"
   ]
  },
  {
   "cell_type": "markdown",
   "metadata": {},
   "source": [
    "### Данные"
   ]
  },
  {
   "cell_type": "code",
   "execution_count": 2,
   "metadata": {},
   "outputs": [],
   "source": [
    "customers_data = pd.read_csv('/mnt/HC_Volume_18315164/home-jupyter/jupyter-a-prohorova-18/file/olist_customers_dataset.csv', encoding='Windows-1251', sep=',')"
   ]
  },
  {
   "cell_type": "code",
   "execution_count": 3,
   "metadata": {},
   "outputs": [],
   "source": [
    "orders_data = pd.read_csv('/mnt/HC_Volume_18315164/home-jupyter/jupyter-a-prohorova-18/file/olist_orders_dataset.csv', encoding='Windows-1251', sep=',', parse_dates=[3,4,5,6,7])"
   ]
  },
  {
   "cell_type": "code",
   "execution_count": 4,
   "metadata": {},
   "outputs": [],
   "source": [
    "order_items_data = pd.read_csv('/mnt/HC_Volume_18315164/home-jupyter/jupyter-a-prohorova-18/file/olist_order_items_dataset.csv', encoding='Windows-1251', sep=',', parse_dates=[4])"
   ]
  },
  {
   "cell_type": "code",
   "execution_count": 13,
   "metadata": {},
   "outputs": [
    {
     "data": {
      "text/html": [
       "<div>\n",
       "<style scoped>\n",
       "    .dataframe tbody tr th:only-of-type {\n",
       "        vertical-align: middle;\n",
       "    }\n",
       "\n",
       "    .dataframe tbody tr th {\n",
       "        vertical-align: top;\n",
       "    }\n",
       "\n",
       "    .dataframe thead th {\n",
       "        text-align: right;\n",
       "    }\n",
       "</style>\n",
       "<table border=\"1\" class=\"dataframe\">\n",
       "  <thead>\n",
       "    <tr style=\"text-align: right;\">\n",
       "      <th></th>\n",
       "      <th>customer_id</th>\n",
       "      <th>customer_unique_id</th>\n",
       "      <th>customer_zip_code_prefix</th>\n",
       "      <th>customer_city</th>\n",
       "      <th>customer_state</th>\n",
       "    </tr>\n",
       "  </thead>\n",
       "  <tbody>\n",
       "    <tr>\n",
       "      <th>0</th>\n",
       "      <td>06b8999e2fba1a1fbc88172c00ba8bc7</td>\n",
       "      <td>861eff4711a542e4b93843c6dd7febb0</td>\n",
       "      <td>14409</td>\n",
       "      <td>franca</td>\n",
       "      <td>SP</td>\n",
       "    </tr>\n",
       "    <tr>\n",
       "      <th>1</th>\n",
       "      <td>18955e83d337fd6b2def6b18a428ac77</td>\n",
       "      <td>290c77bc529b7ac935b93aa66c333dc3</td>\n",
       "      <td>9790</td>\n",
       "      <td>sao bernardo do campo</td>\n",
       "      <td>SP</td>\n",
       "    </tr>\n",
       "  </tbody>\n",
       "</table>\n",
       "</div>"
      ],
      "text/plain": [
       "                        customer_id                customer_unique_id  \\\n",
       "0  06b8999e2fba1a1fbc88172c00ba8bc7  861eff4711a542e4b93843c6dd7febb0   \n",
       "1  18955e83d337fd6b2def6b18a428ac77  290c77bc529b7ac935b93aa66c333dc3   \n",
       "\n",
       "   customer_zip_code_prefix          customer_city customer_state  \n",
       "0                     14409                 franca             SP  \n",
       "1                      9790  sao bernardo do campo             SP  "
      ]
     },
     "execution_count": 13,
     "metadata": {},
     "output_type": "execute_result"
    }
   ],
   "source": [
    "customers_data.head(2)"
   ]
  },
  {
   "cell_type": "code",
   "execution_count": 80,
   "metadata": {},
   "outputs": [
    {
     "data": {
      "text/plain": [
       "(99441, 5)"
      ]
     },
     "execution_count": 80,
     "metadata": {},
     "output_type": "execute_result"
    }
   ],
   "source": [
    "customers_data.shape"
   ]
  },
  {
   "cell_type": "code",
   "execution_count": 16,
   "metadata": {},
   "outputs": [
    {
     "data": {
      "text/plain": [
       "customer_id                 99441\n",
       "customer_unique_id          96096\n",
       "customer_zip_code_prefix    14994\n",
       "customer_city                4119\n",
       "customer_state                 27\n",
       "dtype: int64"
      ]
     },
     "execution_count": 16,
     "metadata": {},
     "output_type": "execute_result"
    }
   ],
   "source": [
    "customers_data.nunique()"
   ]
  },
  {
   "cell_type": "code",
   "execution_count": 17,
   "metadata": {},
   "outputs": [
    {
     "data": {
      "text/plain": [
       "customer_id                 0\n",
       "customer_unique_id          0\n",
       "customer_zip_code_prefix    0\n",
       "customer_city               0\n",
       "customer_state              0\n",
       "dtype: int64"
      ]
     },
     "execution_count": 17,
     "metadata": {},
     "output_type": "execute_result"
    }
   ],
   "source": [
    "customers_data.isna().sum()"
   ]
  },
  {
   "cell_type": "code",
   "execution_count": 14,
   "metadata": {},
   "outputs": [
    {
     "data": {
      "text/html": [
       "<div>\n",
       "<style scoped>\n",
       "    .dataframe tbody tr th:only-of-type {\n",
       "        vertical-align: middle;\n",
       "    }\n",
       "\n",
       "    .dataframe tbody tr th {\n",
       "        vertical-align: top;\n",
       "    }\n",
       "\n",
       "    .dataframe thead th {\n",
       "        text-align: right;\n",
       "    }\n",
       "</style>\n",
       "<table border=\"1\" class=\"dataframe\">\n",
       "  <thead>\n",
       "    <tr style=\"text-align: right;\">\n",
       "      <th></th>\n",
       "      <th>order_id</th>\n",
       "      <th>customer_id</th>\n",
       "      <th>order_status</th>\n",
       "      <th>order_purchase_timestamp</th>\n",
       "      <th>order_approved_at</th>\n",
       "      <th>order_delivered_carrier_date</th>\n",
       "      <th>order_delivered_customer_date</th>\n",
       "      <th>order_estimated_delivery_date</th>\n",
       "    </tr>\n",
       "  </thead>\n",
       "  <tbody>\n",
       "    <tr>\n",
       "      <th>0</th>\n",
       "      <td>e481f51cbdc54678b7cc49136f2d6af7</td>\n",
       "      <td>9ef432eb6251297304e76186b10a928d</td>\n",
       "      <td>delivered</td>\n",
       "      <td>2017-10-02 10:56:33</td>\n",
       "      <td>2017-10-02 11:07:15</td>\n",
       "      <td>2017-10-04 19:55:00</td>\n",
       "      <td>2017-10-10 21:25:13</td>\n",
       "      <td>2017-10-18</td>\n",
       "    </tr>\n",
       "    <tr>\n",
       "      <th>1</th>\n",
       "      <td>53cdb2fc8bc7dce0b6741e2150273451</td>\n",
       "      <td>b0830fb4747a6c6d20dea0b8c802d7ef</td>\n",
       "      <td>delivered</td>\n",
       "      <td>2018-07-24 20:41:37</td>\n",
       "      <td>2018-07-26 03:24:27</td>\n",
       "      <td>2018-07-26 14:31:00</td>\n",
       "      <td>2018-08-07 15:27:45</td>\n",
       "      <td>2018-08-13</td>\n",
       "    </tr>\n",
       "  </tbody>\n",
       "</table>\n",
       "</div>"
      ],
      "text/plain": [
       "                           order_id                       customer_id  \\\n",
       "0  e481f51cbdc54678b7cc49136f2d6af7  9ef432eb6251297304e76186b10a928d   \n",
       "1  53cdb2fc8bc7dce0b6741e2150273451  b0830fb4747a6c6d20dea0b8c802d7ef   \n",
       "\n",
       "  order_status order_purchase_timestamp   order_approved_at  \\\n",
       "0    delivered      2017-10-02 10:56:33 2017-10-02 11:07:15   \n",
       "1    delivered      2018-07-24 20:41:37 2018-07-26 03:24:27   \n",
       "\n",
       "  order_delivered_carrier_date order_delivered_customer_date  \\\n",
       "0          2017-10-04 19:55:00           2017-10-10 21:25:13   \n",
       "1          2018-07-26 14:31:00           2018-08-07 15:27:45   \n",
       "\n",
       "  order_estimated_delivery_date  \n",
       "0                    2017-10-18  \n",
       "1                    2018-08-13  "
      ]
     },
     "execution_count": 14,
     "metadata": {},
     "output_type": "execute_result"
    }
   ],
   "source": [
    "orders_data.head(2)"
   ]
  },
  {
   "cell_type": "code",
   "execution_count": 19,
   "metadata": {},
   "outputs": [
    {
     "data": {
      "text/plain": [
       "order_id                         99441\n",
       "customer_id                      99441\n",
       "order_status                         8\n",
       "order_purchase_timestamp         98875\n",
       "order_approved_at                90733\n",
       "order_delivered_carrier_date     81018\n",
       "order_delivered_customer_date    95664\n",
       "order_estimated_delivery_date      459\n",
       "dtype: int64"
      ]
     },
     "execution_count": 19,
     "metadata": {},
     "output_type": "execute_result"
    }
   ],
   "source": [
    "orders_data.nunique()"
   ]
  },
  {
   "cell_type": "code",
   "execution_count": 18,
   "metadata": {},
   "outputs": [
    {
     "data": {
      "text/plain": [
       "order_id                            0\n",
       "customer_id                         0\n",
       "order_status                        0\n",
       "order_purchase_timestamp            0\n",
       "order_approved_at                 160\n",
       "order_delivered_carrier_date     1783\n",
       "order_delivered_customer_date    2965\n",
       "order_estimated_delivery_date       0\n",
       "dtype: int64"
      ]
     },
     "execution_count": 18,
     "metadata": {},
     "output_type": "execute_result"
    }
   ],
   "source": [
    "orders_data.isna().sum()"
   ]
  },
  {
   "cell_type": "code",
   "execution_count": 15,
   "metadata": {},
   "outputs": [
    {
     "data": {
      "text/html": [
       "<div>\n",
       "<style scoped>\n",
       "    .dataframe tbody tr th:only-of-type {\n",
       "        vertical-align: middle;\n",
       "    }\n",
       "\n",
       "    .dataframe tbody tr th {\n",
       "        vertical-align: top;\n",
       "    }\n",
       "\n",
       "    .dataframe thead th {\n",
       "        text-align: right;\n",
       "    }\n",
       "</style>\n",
       "<table border=\"1\" class=\"dataframe\">\n",
       "  <thead>\n",
       "    <tr style=\"text-align: right;\">\n",
       "      <th></th>\n",
       "      <th>order_id</th>\n",
       "      <th>order_item_id</th>\n",
       "      <th>product_id</th>\n",
       "      <th>seller_id</th>\n",
       "      <th>shipping_limit_date</th>\n",
       "      <th>price</th>\n",
       "      <th>freight_value</th>\n",
       "    </tr>\n",
       "  </thead>\n",
       "  <tbody>\n",
       "    <tr>\n",
       "      <th>0</th>\n",
       "      <td>00010242fe8c5a6d1ba2dd792cb16214</td>\n",
       "      <td>1</td>\n",
       "      <td>4244733e06e7ecb4970a6e2683c13e61</td>\n",
       "      <td>48436dade18ac8b2bce089ec2a041202</td>\n",
       "      <td>2017-09-19 09:45:35</td>\n",
       "      <td>58.9</td>\n",
       "      <td>13.29</td>\n",
       "    </tr>\n",
       "    <tr>\n",
       "      <th>1</th>\n",
       "      <td>00018f77f2f0320c557190d7a144bdd3</td>\n",
       "      <td>1</td>\n",
       "      <td>e5f2d52b802189ee658865ca93d83a8f</td>\n",
       "      <td>dd7ddc04e1b6c2c614352b383efe2d36</td>\n",
       "      <td>2017-05-03 11:05:13</td>\n",
       "      <td>239.9</td>\n",
       "      <td>19.93</td>\n",
       "    </tr>\n",
       "  </tbody>\n",
       "</table>\n",
       "</div>"
      ],
      "text/plain": [
       "                           order_id  order_item_id  \\\n",
       "0  00010242fe8c5a6d1ba2dd792cb16214              1   \n",
       "1  00018f77f2f0320c557190d7a144bdd3              1   \n",
       "\n",
       "                         product_id                         seller_id  \\\n",
       "0  4244733e06e7ecb4970a6e2683c13e61  48436dade18ac8b2bce089ec2a041202   \n",
       "1  e5f2d52b802189ee658865ca93d83a8f  dd7ddc04e1b6c2c614352b383efe2d36   \n",
       "\n",
       "  shipping_limit_date  price  freight_value  \n",
       "0 2017-09-19 09:45:35   58.9          13.29  \n",
       "1 2017-05-03 11:05:13  239.9          19.93  "
      ]
     },
     "execution_count": 15,
     "metadata": {},
     "output_type": "execute_result"
    }
   ],
   "source": [
    "order_items_data.head(2)"
   ]
  },
  {
   "cell_type": "code",
   "execution_count": 20,
   "metadata": {},
   "outputs": [
    {
     "data": {
      "text/plain": [
       "order_id               98666\n",
       "order_item_id             21\n",
       "product_id             32951\n",
       "seller_id               3095\n",
       "shipping_limit_date    93318\n",
       "price                   5968\n",
       "freight_value           6999\n",
       "dtype: int64"
      ]
     },
     "execution_count": 20,
     "metadata": {},
     "output_type": "execute_result"
    }
   ],
   "source": [
    "order_items_data.nunique()"
   ]
  },
  {
   "cell_type": "code",
   "execution_count": 21,
   "metadata": {},
   "outputs": [
    {
     "data": {
      "text/plain": [
       "order_id               0\n",
       "order_item_id          0\n",
       "product_id             0\n",
       "seller_id              0\n",
       "shipping_limit_date    0\n",
       "price                  0\n",
       "freight_value          0\n",
       "dtype: int64"
      ]
     },
     "execution_count": 21,
     "metadata": {},
     "output_type": "execute_result"
    }
   ],
   "source": [
    "order_items_data.isna().sum()"
   ]
  },
  {
   "cell_type": "markdown",
   "metadata": {},
   "source": [
    "           "
   ]
  },
  {
   "cell_type": "markdown",
   "metadata": {},
   "source": [
    "### 1. Сколько пользователей, которые совершили покупку только один раз?"
   ]
  },
  {
   "cell_type": "code",
   "execution_count": 23,
   "metadata": {},
   "outputs": [
    {
     "data": {
      "text/plain": [
       "93099"
      ]
     },
     "execution_count": 23,
     "metadata": {},
     "output_type": "execute_result"
    }
   ],
   "source": [
    "# группируем пользователей по уникальному id\n",
    "# подсчитываем количество позаказных id пользователя\n",
    "# выбираем пользователей, у которых количество заказов = 1\n",
    "# выводим число строк\n",
    "customers_data.groupby(['customer_unique_id'], as_index=False) \\\n",
    ".agg({'customer_id': 'count'})\\\n",
    ".rename(columns={'customer_id': 'order_count'})\\\n",
    ".query('order_count == 1')\\\n",
    ".shape[0]"
   ]
  },
  {
   "cell_type": "markdown",
   "metadata": {},
   "source": [
    "Таким образом, 93099 пользователей совершили 1 заказ. \n",
    "Посчитаем, какое количество пользователей совершили покупку 1 раз (т.е. есть дата оплаты, и заказ не отменен).\n"
   ]
  },
  {
   "cell_type": "code",
   "execution_count": 78,
   "metadata": {},
   "outputs": [],
   "source": [
    "# мерджим датасет с пользователями, которые совершили 1 заказ с датасетом с уникальными идентификаторами пользователей\n",
    "data_with_customer_id = pd.merge(customers_data.groupby(['customer_unique_id'], as_index=False)\\\n",
    "                .agg({'customer_id': 'count'})\\\n",
    "                .rename(columns={'customer_id': 'order_count'})\\\n",
    "                .query('order_count == 1'), customers_data[['customer_id','customer_unique_id']], on=['customer_unique_id'])"
   ]
  },
  {
   "cell_type": "code",
   "execution_count": 75,
   "metadata": {},
   "outputs": [
    {
     "data": {
      "text/plain": [
       "92549"
      ]
     },
     "execution_count": 75,
     "metadata": {},
     "output_type": "execute_result"
    }
   ],
   "source": [
    "# мерджим датасеты с пользователями и заказами \n",
    "# удаляем строки, где не подтверждена оплата\n",
    "# выбираем только те данные, где статус заказа не canceled\n",
    "# выводим количество строк\n",
    "pd.merge(data_with_customer_id, orders_data, on=['customer_id'])\\\n",
    ".dropna(subset=['order_approved_at'])\\\n",
    ".query('order_status != \"canceled\"')\\\n",
    ".shape[0]"
   ]
  },
  {
   "cell_type": "markdown",
   "metadata": {},
   "source": [
    "В результате, 93099 пользователей создали 1 заказ и 92549 пользователей оплатили 1 заказ. "
   ]
  },
  {
   "cell_type": "markdown",
   "metadata": {},
   "source": [
    " ----"
   ]
  },
  {
   "cell_type": "markdown",
   "metadata": {},
   "source": [
    "### 2. Сколько заказов в месяц в среднем не доставляется по разным причинам (вывести детализацию по причинам)?"
   ]
  },
  {
   "cell_type": "markdown",
   "metadata": {},
   "source": [
    "Недоставленные заказы - заказы, статус которых не 'delivered'. \n",
    "\n",
    "Негативными событиями являются следующие статусы заказов:\n",
    "\n",
    "   - unavailable (недоступен) \n",
    "   - canceled (отменён)."
   ]
  },
  {
   "cell_type": "code",
   "execution_count": 27,
   "metadata": {},
   "outputs": [],
   "source": [
    "# создаем колонку с годом и месяцем создания заказа\n",
    "orders_data['order_purchase_month'] = orders_data['order_purchase_timestamp'].apply(lambda x: x.strftime('%Y-%m'))"
   ]
  },
  {
   "cell_type": "code",
   "execution_count": 84,
   "metadata": {},
   "outputs": [
    {
     "data": {
      "text/html": [
       "<div>\n",
       "<style scoped>\n",
       "    .dataframe tbody tr th:only-of-type {\n",
       "        vertical-align: middle;\n",
       "    }\n",
       "\n",
       "    .dataframe tbody tr th {\n",
       "        vertical-align: top;\n",
       "    }\n",
       "\n",
       "    .dataframe thead th {\n",
       "        text-align: right;\n",
       "    }\n",
       "</style>\n",
       "<table border=\"1\" class=\"dataframe\">\n",
       "  <thead>\n",
       "    <tr style=\"text-align: right;\">\n",
       "      <th></th>\n",
       "      <th>order_status</th>\n",
       "      <th>mean_order_count_in_month</th>\n",
       "    </tr>\n",
       "  </thead>\n",
       "  <tbody>\n",
       "    <tr>\n",
       "      <th>1</th>\n",
       "      <td>unavailable</td>\n",
       "      <td>29.00</td>\n",
       "    </tr>\n",
       "    <tr>\n",
       "      <th>0</th>\n",
       "      <td>canceled</td>\n",
       "      <td>26.04</td>\n",
       "    </tr>\n",
       "  </tbody>\n",
       "</table>\n",
       "</div>"
      ],
      "text/plain": [
       "  order_status  mean_order_count_in_month\n",
       "1  unavailable                      29.00\n",
       "0     canceled                      26.04"
      ]
     },
     "execution_count": 84,
     "metadata": {},
     "output_type": "execute_result"
    }
   ],
   "source": [
    "# выбираем данные, где статус заказа не delivered \n",
    "# группируем по статусу и по месяцу создания заказа\n",
    "# считаем количество заказов \n",
    "# группируем по статусу заказа\n",
    "# считаем среднее количество недоставленных заказов по причинам и округляем\n",
    "orders_data[orders_data['order_status'].isin(['unavailable', 'canceled'])]\\\n",
    ".groupby(['order_status', 'order_purchase_month'], as_index=False)\\\n",
    ".agg({'order_id': 'count'})\\\n",
    ".groupby('order_status', as_index=False)\\\n",
    ".agg({'order_id': 'mean'})\\\n",
    ".rename(columns={'order_id': 'mean_order_count_in_month'})\\\n",
    ".round(2)\\\n",
    ".sort_values('mean_order_count_in_month', ascending=False)"
   ]
  },
  {
   "cell_type": "markdown",
   "metadata": {},
   "source": [
    "В среднем 29 заказов в месяц не доставляются по причине недоступности заказа (unavailable), 26.04 - по причине отмены (canceled). "
   ]
  },
  {
   "cell_type": "markdown",
   "metadata": {},
   "source": [
    "---"
   ]
  },
  {
   "cell_type": "markdown",
   "metadata": {},
   "source": [
    " ### 3. По каждому товару определить, в какой день недели товар чаще всего покупается. "
   ]
  },
  {
   "cell_type": "code",
   "execution_count": 88,
   "metadata": {},
   "outputs": [],
   "source": [
    "# создаем колонку с днями недели создания заказов\n",
    "orders_data['day_of_week'] = orders_data['order_purchase_timestamp'].dt.day_name()"
   ]
  },
  {
   "cell_type": "code",
   "execution_count": 91,
   "metadata": {},
   "outputs": [],
   "source": [
    "# мерджим таблицы с заказами и продуктами по номеру заказа\n",
    "# группируем по продуктам и по дням недели \n",
    "# считаем количество заказов\n",
    "data3 = pd.merge(orders_data, order_items_data, on=['order_id'])\\\n",
    ".groupby(['product_id', 'day_of_week'])\\\n",
    ".agg({'order_id': 'count'})"
   ]
  },
  {
   "cell_type": "markdown",
   "metadata": {},
   "source": [
    "Необходимо найти для каждого продукта день недели с наибольшим количеством заказов, для этого:"
   ]
  },
  {
   "cell_type": "code",
   "execution_count": 32,
   "metadata": {},
   "outputs": [],
   "source": [
    "# группируем по продукту\n",
    "# находим максимальное значение заказов\n",
    "max_order_count = data3.groupby('product_id')['order_id'].max().reset_index()"
   ]
  },
  {
   "cell_type": "code",
   "execution_count": 33,
   "metadata": {},
   "outputs": [],
   "source": [
    "# мерджим датасеты с количеством заказов по продуктам и дням недели с максимальным количеством заказов \n",
    "products_by_day = pd.merge(data3, max_order_count, on=['product_id', 'order_id'])"
   ]
  },
  {
   "cell_type": "code",
   "execution_count": 101,
   "metadata": {},
   "outputs": [
    {
     "data": {
      "text/html": [
       "<div>\n",
       "<style scoped>\n",
       "    .dataframe tbody tr th:only-of-type {\n",
       "        vertical-align: middle;\n",
       "    }\n",
       "\n",
       "    .dataframe tbody tr th {\n",
       "        vertical-align: top;\n",
       "    }\n",
       "\n",
       "    .dataframe thead th {\n",
       "        text-align: right;\n",
       "    }\n",
       "</style>\n",
       "<table border=\"1\" class=\"dataframe\">\n",
       "  <thead>\n",
       "    <tr style=\"text-align: right;\">\n",
       "      <th></th>\n",
       "      <th>product_id</th>\n",
       "      <th>day_of_week</th>\n",
       "      <th>order_id</th>\n",
       "    </tr>\n",
       "  </thead>\n",
       "  <tbody>\n",
       "    <tr>\n",
       "      <th>0</th>\n",
       "      <td>00066f42aeeb9f3007548bb9d3f33c38</td>\n",
       "      <td>Sunday</td>\n",
       "      <td>1</td>\n",
       "    </tr>\n",
       "    <tr>\n",
       "      <th>1</th>\n",
       "      <td>00088930e925c41fd95ebfe695fd2655</td>\n",
       "      <td>Tuesday</td>\n",
       "      <td>1</td>\n",
       "    </tr>\n",
       "  </tbody>\n",
       "</table>\n",
       "</div>"
      ],
      "text/plain": [
       "                         product_id day_of_week  order_id\n",
       "0  00066f42aeeb9f3007548bb9d3f33c38      Sunday         1\n",
       "1  00088930e925c41fd95ebfe695fd2655     Tuesday         1"
      ]
     },
     "execution_count": 101,
     "metadata": {},
     "output_type": "execute_result"
    }
   ],
   "source": [
    "products_by_day.head(2)"
   ]
  },
  {
   "cell_type": "code",
   "execution_count": 102,
   "metadata": {},
   "outputs": [
    {
     "data": {
      "text/html": [
       "<div>\n",
       "<style scoped>\n",
       "    .dataframe tbody tr th:only-of-type {\n",
       "        vertical-align: middle;\n",
       "    }\n",
       "\n",
       "    .dataframe tbody tr th {\n",
       "        vertical-align: top;\n",
       "    }\n",
       "\n",
       "    .dataframe thead th {\n",
       "        text-align: right;\n",
       "    }\n",
       "</style>\n",
       "<table border=\"1\" class=\"dataframe\">\n",
       "  <thead>\n",
       "    <tr style=\"text-align: right;\">\n",
       "      <th></th>\n",
       "      <th>product_id</th>\n",
       "      <th>day_of_week</th>\n",
       "    </tr>\n",
       "  </thead>\n",
       "  <tbody>\n",
       "    <tr>\n",
       "      <th>0</th>\n",
       "      <td>00066f42aeeb9f3007548bb9d3f33c38</td>\n",
       "      <td>[Sunday]</td>\n",
       "    </tr>\n",
       "    <tr>\n",
       "      <th>1</th>\n",
       "      <td>00088930e925c41fd95ebfe695fd2655</td>\n",
       "      <td>[Tuesday]</td>\n",
       "    </tr>\n",
       "    <tr>\n",
       "      <th>2</th>\n",
       "      <td>0009406fd7479715e4bef61dd91f2462</td>\n",
       "      <td>[Thursday]</td>\n",
       "    </tr>\n",
       "    <tr>\n",
       "      <th>3</th>\n",
       "      <td>000b8f95fcb9e0096488278317764d19</td>\n",
       "      <td>[Friday, Wednesday]</td>\n",
       "    </tr>\n",
       "    <tr>\n",
       "      <th>4</th>\n",
       "      <td>000d9be29b5207b54e86aa1b1ac54872</td>\n",
       "      <td>[Tuesday]</td>\n",
       "    </tr>\n",
       "  </tbody>\n",
       "</table>\n",
       "</div>"
      ],
      "text/plain": [
       "                         product_id          day_of_week\n",
       "0  00066f42aeeb9f3007548bb9d3f33c38             [Sunday]\n",
       "1  00088930e925c41fd95ebfe695fd2655            [Tuesday]\n",
       "2  0009406fd7479715e4bef61dd91f2462           [Thursday]\n",
       "3  000b8f95fcb9e0096488278317764d19  [Friday, Wednesday]\n",
       "4  000d9be29b5207b54e86aa1b1ac54872            [Tuesday]"
      ]
     },
     "execution_count": 102,
     "metadata": {},
     "output_type": "execute_result"
    }
   ],
   "source": [
    "# т.к. один товар может покупаться одинаково часто в несколько разных дней, сгрупируем данные по product_id\n",
    "# создадим список из дней, в которые товар покупался наиболее часто\n",
    "products_by_day.groupby('product_id').day_of_week.apply(list).to_frame().reset_index().head()"
   ]
  },
  {
   "cell_type": "markdown",
   "metadata": {},
   "source": [
    "----"
   ]
  },
  {
   "cell_type": "markdown",
   "metadata": {},
   "source": [
    " ### 4. Сколько у каждого из пользователей в среднем покупок в неделю (по месяцам)?  "
   ]
  },
  {
   "cell_type": "code",
   "execution_count": 35,
   "metadata": {},
   "outputs": [],
   "source": [
    "# для решения задачи используем колонку order_purchase_month, созданную в прошлом задании \n",
    "# приводим колонку к типу datetime\n",
    "orders_data['order_purchase_month'] = pd.to_datetime(orders_data['order_purchase_month'])"
   ]
  },
  {
   "cell_type": "code",
   "execution_count": 36,
   "metadata": {},
   "outputs": [],
   "source": [
    "# мерджим таблицы с заказми и клиентами\n",
    "# группируем по id клиента и по месяцам\n",
    "# считаем количество заказов \n",
    "data4 = pd.merge(customers_data, orders_data, on=['customer_id'])\\\n",
    ".groupby(['customer_unique_id', 'order_purchase_month'],as_index=False)\\\n",
    ".agg({'order_id': 'count'})"
   ]
  },
  {
   "cell_type": "code",
   "execution_count": 37,
   "metadata": {},
   "outputs": [],
   "source": [
    "# создадим колонку с количеством недель в месяце\n",
    "data4['count_week_in_month'] = data4.order_purchase_month.dt.daysinmonth / 7"
   ]
  },
  {
   "cell_type": "code",
   "execution_count": 38,
   "metadata": {},
   "outputs": [],
   "source": [
    "# посчитаем среднее количество заказов в неделю по месяцам\n",
    "data4['mean_order_count_by_week'] = (data4.order_id / data4['count_week_in_month']).round(3)"
   ]
  },
  {
   "cell_type": "code",
   "execution_count": 39,
   "metadata": {
    "scrolled": true
   },
   "outputs": [
    {
     "data": {
      "text/html": [
       "<div>\n",
       "<style scoped>\n",
       "    .dataframe tbody tr th:only-of-type {\n",
       "        vertical-align: middle;\n",
       "    }\n",
       "\n",
       "    .dataframe tbody tr th {\n",
       "        vertical-align: top;\n",
       "    }\n",
       "\n",
       "    .dataframe thead th {\n",
       "        text-align: right;\n",
       "    }\n",
       "</style>\n",
       "<table border=\"1\" class=\"dataframe\">\n",
       "  <thead>\n",
       "    <tr style=\"text-align: right;\">\n",
       "      <th></th>\n",
       "      <th>customer_unique_id</th>\n",
       "      <th>order_purchase_month</th>\n",
       "      <th>order_id</th>\n",
       "      <th>count_week_in_month</th>\n",
       "      <th>mean_order_count_by_week</th>\n",
       "    </tr>\n",
       "  </thead>\n",
       "  <tbody>\n",
       "    <tr>\n",
       "      <th>0</th>\n",
       "      <td>0000366f3b9a7992bf8c76cfdf3221e2</td>\n",
       "      <td>2018-05-01</td>\n",
       "      <td>1</td>\n",
       "      <td>4.428571</td>\n",
       "      <td>0.226</td>\n",
       "    </tr>\n",
       "    <tr>\n",
       "      <th>1</th>\n",
       "      <td>0000b849f77a49e4a4ce2b2a4ca5be3f</td>\n",
       "      <td>2018-05-01</td>\n",
       "      <td>1</td>\n",
       "      <td>4.428571</td>\n",
       "      <td>0.226</td>\n",
       "    </tr>\n",
       "    <tr>\n",
       "      <th>2</th>\n",
       "      <td>0000f46a3911fa3c0805444483337064</td>\n",
       "      <td>2017-03-01</td>\n",
       "      <td>1</td>\n",
       "      <td>4.428571</td>\n",
       "      <td>0.226</td>\n",
       "    </tr>\n",
       "    <tr>\n",
       "      <th>3</th>\n",
       "      <td>0000f6ccb0745a6a4b88665a16c9f078</td>\n",
       "      <td>2017-10-01</td>\n",
       "      <td>1</td>\n",
       "      <td>4.428571</td>\n",
       "      <td>0.226</td>\n",
       "    </tr>\n",
       "    <tr>\n",
       "      <th>4</th>\n",
       "      <td>0004aac84e0df4da2b147fca70cf8255</td>\n",
       "      <td>2017-11-01</td>\n",
       "      <td>1</td>\n",
       "      <td>4.285714</td>\n",
       "      <td>0.233</td>\n",
       "    </tr>\n",
       "  </tbody>\n",
       "</table>\n",
       "</div>"
      ],
      "text/plain": [
       "                 customer_unique_id order_purchase_month  order_id  \\\n",
       "0  0000366f3b9a7992bf8c76cfdf3221e2           2018-05-01         1   \n",
       "1  0000b849f77a49e4a4ce2b2a4ca5be3f           2018-05-01         1   \n",
       "2  0000f46a3911fa3c0805444483337064           2017-03-01         1   \n",
       "3  0000f6ccb0745a6a4b88665a16c9f078           2017-10-01         1   \n",
       "4  0004aac84e0df4da2b147fca70cf8255           2017-11-01         1   \n",
       "\n",
       "   count_week_in_month  mean_order_count_by_week  \n",
       "0             4.428571                     0.226  \n",
       "1             4.428571                     0.226  \n",
       "2             4.428571                     0.226  \n",
       "3             4.428571                     0.226  \n",
       "4             4.285714                     0.233  "
      ]
     },
     "execution_count": 39,
     "metadata": {},
     "output_type": "execute_result"
    }
   ],
   "source": [
    "data4.head()"
   ]
  },
  {
   "cell_type": "markdown",
   "metadata": {},
   "source": [
    "     "
   ]
  },
  {
   "cell_type": "markdown",
   "metadata": {},
   "source": [
    "----"
   ]
  },
  {
   "cell_type": "markdown",
   "metadata": {},
   "source": [
    " ### 5. Напиши функцию на python, позволяющую строить когортный анализ. В период с января по декабрь выяви когорту с самым высоким retention на 3-й месяц. "
   ]
  },
  {
   "cell_type": "code",
   "execution_count": 5,
   "metadata": {},
   "outputs": [],
   "source": [
    "def cohort_analysis(df, date, customer_id, n):\n",
    "    \"\"\" Функция для построения когортного анализа (размер когорты - месяц, исследуемый показатель - retention)\n",
    "    параметры:\n",
    "          df - DateFrame\n",
    "          date - дата первой покупки (pandas.Series)\n",
    "          customer_id - id клиента (pandas.Series)\n",
    "          n - количество месяцев в отчетном периоде (int)   \n",
    "    \"\"\"\n",
    "    # создаем колонку с месяцами заказов\n",
    "    df['order_month'] = df[date].dt.to_period('M')\n",
    "    \n",
    "    # создаем колонку с когортами: группируем пользователей по id, находим дату первой покупки\n",
    "    df['cohort'] = df.groupby(customer_id)[date]\\\n",
    "                 .transform('min')\\\n",
    "                 .dt.to_period('M') \n",
    "    \n",
    "    # записываем в новый df данные, сгруппированные по когортам и по месяцам заказов и с количеством уникальных пользоватей\n",
    "    cohorts = df.groupby(['cohort', 'order_month'])\\\n",
    "    .agg({customer_id: pd.Series.nunique})\\\n",
    "    .reset_index(drop=False)\n",
    "    \n",
    "    # создаем колонку с количеством месяцев, прошедших с даты первой покупки\n",
    "    cohorts['period_number'] = (cohorts.order_month - cohorts.cohort).apply(attrgetter('n'))\n",
    "    \n",
    "    # преобразуем таблицу с помощью pivot\n",
    "    cohorts = cohorts.pivot_table(index='cohort',\n",
    "                                  columns='period_number',\n",
    "                                  values= customer_id)\n",
    "    \n",
    "    # создаем df retention - делим кол-во пользователей в когортах для каждого месяца на кол-во пользователей в нулевой месяц \n",
    "    retention = cohorts.divide(cohorts.iloc[:, 0], axis=0)\n",
    "    \n",
    "    # возвращаем df retention на заданное количество месяцев\n",
    "    return retention.loc[:, 0:n] \n",
    "    "
   ]
  },
  {
   "cell_type": "code",
   "execution_count": 6,
   "metadata": {},
   "outputs": [],
   "source": [
    "def cohort_analysis_visualization(df):\n",
    "    \"\"\" Функция для визуализации когортного анализа (исследуемый показатель - retention)\n",
    "    параметры:\n",
    "          df - DateFrame            \n",
    "    \"\"\"\n",
    "    final_retention = (df\n",
    "            .style\n",
    "            .set_caption('User retention by cohort')  # добавляем подпись\n",
    "            .background_gradient(cmap='YlOrRd')  # раскрашиваем ячейки по столбцам\n",
    "            .highlight_null('white')  # делаем белый фон для значений NaN\n",
    "            .format(\"{:.2%}\", na_rep=\"\"))  # числа форматируем как проценты, NaN заменяем на пустоту\n",
    "    return final_retention"
   ]
  },
  {
   "cell_type": "code",
   "execution_count": 7,
   "metadata": {},
   "outputs": [],
   "source": [
    "# мерджим таблицы с клиентами и заказами\n",
    "data5 = pd.merge(customers_data, orders_data, on=['customer_id'])"
   ]
  },
  {
   "cell_type": "code",
   "execution_count": 8,
   "metadata": {},
   "outputs": [],
   "source": [
    "retention = cohort_analysis(data5, 'order_purchase_timestamp', 'customer_unique_id', 3)"
   ]
  },
  {
   "cell_type": "code",
   "execution_count": 11,
   "metadata": {},
   "outputs": [
    {
     "data": {
      "text/html": [
       "<style  type=\"text/css\" >\n",
       "#T_bdf3391c_db70_11ec_bdbb_96000040dfb6row0_col0,#T_bdf3391c_db70_11ec_bdbb_96000040dfb6row1_col0,#T_bdf3391c_db70_11ec_bdbb_96000040dfb6row2_col0,#T_bdf3391c_db70_11ec_bdbb_96000040dfb6row3_col0,#T_bdf3391c_db70_11ec_bdbb_96000040dfb6row3_col1,#T_bdf3391c_db70_11ec_bdbb_96000040dfb6row4_col0,#T_bdf3391c_db70_11ec_bdbb_96000040dfb6row4_col1,#T_bdf3391c_db70_11ec_bdbb_96000040dfb6row5_col0,#T_bdf3391c_db70_11ec_bdbb_96000040dfb6row5_col1,#T_bdf3391c_db70_11ec_bdbb_96000040dfb6row6_col0,#T_bdf3391c_db70_11ec_bdbb_96000040dfb6row7_col0,#T_bdf3391c_db70_11ec_bdbb_96000040dfb6row7_col1,#T_bdf3391c_db70_11ec_bdbb_96000040dfb6row8_col0,#T_bdf3391c_db70_11ec_bdbb_96000040dfb6row8_col1,#T_bdf3391c_db70_11ec_bdbb_96000040dfb6row9_col0,#T_bdf3391c_db70_11ec_bdbb_96000040dfb6row10_col0,#T_bdf3391c_db70_11ec_bdbb_96000040dfb6row11_col0,#T_bdf3391c_db70_11ec_bdbb_96000040dfb6row12_col0,#T_bdf3391c_db70_11ec_bdbb_96000040dfb6row12_col3,#T_bdf3391c_db70_11ec_bdbb_96000040dfb6row13_col0,#T_bdf3391c_db70_11ec_bdbb_96000040dfb6row14_col0,#T_bdf3391c_db70_11ec_bdbb_96000040dfb6row14_col1,#T_bdf3391c_db70_11ec_bdbb_96000040dfb6row15_col0,#T_bdf3391c_db70_11ec_bdbb_96000040dfb6row15_col1,#T_bdf3391c_db70_11ec_bdbb_96000040dfb6row16_col0,#T_bdf3391c_db70_11ec_bdbb_96000040dfb6row16_col1,#T_bdf3391c_db70_11ec_bdbb_96000040dfb6row17_col0,#T_bdf3391c_db70_11ec_bdbb_96000040dfb6row17_col1,#T_bdf3391c_db70_11ec_bdbb_96000040dfb6row18_col0,#T_bdf3391c_db70_11ec_bdbb_96000040dfb6row19_col0,#T_bdf3391c_db70_11ec_bdbb_96000040dfb6row20_col0,#T_bdf3391c_db70_11ec_bdbb_96000040dfb6row20_col1,#T_bdf3391c_db70_11ec_bdbb_96000040dfb6row21_col0,#T_bdf3391c_db70_11ec_bdbb_96000040dfb6row21_col2,#T_bdf3391c_db70_11ec_bdbb_96000040dfb6row22_col0,#T_bdf3391c_db70_11ec_bdbb_96000040dfb6row22_col1,#T_bdf3391c_db70_11ec_bdbb_96000040dfb6row22_col2,#T_bdf3391c_db70_11ec_bdbb_96000040dfb6row23_col0,#T_bdf3391c_db70_11ec_bdbb_96000040dfb6row24_col0{\n",
       "            background-color:  #ffffcc;\n",
       "            color:  #000000;\n",
       "        }#T_bdf3391c_db70_11ec_bdbb_96000040dfb6row0_col1,#T_bdf3391c_db70_11ec_bdbb_96000040dfb6row0_col2,#T_bdf3391c_db70_11ec_bdbb_96000040dfb6row0_col3,#T_bdf3391c_db70_11ec_bdbb_96000040dfb6row1_col1,#T_bdf3391c_db70_11ec_bdbb_96000040dfb6row1_col2,#T_bdf3391c_db70_11ec_bdbb_96000040dfb6row1_col3,#T_bdf3391c_db70_11ec_bdbb_96000040dfb6row2_col2,#T_bdf3391c_db70_11ec_bdbb_96000040dfb6row2_col3,#T_bdf3391c_db70_11ec_bdbb_96000040dfb6row20_col3,#T_bdf3391c_db70_11ec_bdbb_96000040dfb6row21_col3,#T_bdf3391c_db70_11ec_bdbb_96000040dfb6row22_col3,#T_bdf3391c_db70_11ec_bdbb_96000040dfb6row23_col1,#T_bdf3391c_db70_11ec_bdbb_96000040dfb6row23_col2,#T_bdf3391c_db70_11ec_bdbb_96000040dfb6row23_col3,#T_bdf3391c_db70_11ec_bdbb_96000040dfb6row24_col1,#T_bdf3391c_db70_11ec_bdbb_96000040dfb6row24_col2,#T_bdf3391c_db70_11ec_bdbb_96000040dfb6row24_col3{\n",
       "            background-color:  #000000;\n",
       "            color:  #f1f1f1;\n",
       "            background-color:  white;\n",
       "        }#T_bdf3391c_db70_11ec_bdbb_96000040dfb6row2_col1,#T_bdf3391c_db70_11ec_bdbb_96000040dfb6row8_col3,#T_bdf3391c_db70_11ec_bdbb_96000040dfb6row11_col2{\n",
       "            background-color:  #800026;\n",
       "            color:  #f1f1f1;\n",
       "        }#T_bdf3391c_db70_11ec_bdbb_96000040dfb6row3_col2,#T_bdf3391c_db70_11ec_bdbb_96000040dfb6row18_col3{\n",
       "            background-color:  #fd9941;\n",
       "            color:  #000000;\n",
       "        }#T_bdf3391c_db70_11ec_bdbb_96000040dfb6row3_col3{\n",
       "            background-color:  #ffeda0;\n",
       "            color:  #000000;\n",
       "        }#T_bdf3391c_db70_11ec_bdbb_96000040dfb6row4_col2,#T_bdf3391c_db70_11ec_bdbb_96000040dfb6row20_col2{\n",
       "            background-color:  #fd8a3b;\n",
       "            color:  #000000;\n",
       "        }#T_bdf3391c_db70_11ec_bdbb_96000040dfb6row4_col3{\n",
       "            background-color:  #fff4b2;\n",
       "            color:  #000000;\n",
       "        }#T_bdf3391c_db70_11ec_bdbb_96000040dfb6row5_col2{\n",
       "            background-color:  #ee3122;\n",
       "            color:  #f1f1f1;\n",
       "        }#T_bdf3391c_db70_11ec_bdbb_96000040dfb6row5_col3{\n",
       "            background-color:  #b40026;\n",
       "            color:  #f1f1f1;\n",
       "        }#T_bdf3391c_db70_11ec_bdbb_96000040dfb6row6_col1,#T_bdf3391c_db70_11ec_bdbb_96000040dfb6row9_col1,#T_bdf3391c_db70_11ec_bdbb_96000040dfb6row10_col1,#T_bdf3391c_db70_11ec_bdbb_96000040dfb6row11_col1,#T_bdf3391c_db70_11ec_bdbb_96000040dfb6row12_col1,#T_bdf3391c_db70_11ec_bdbb_96000040dfb6row13_col1,#T_bdf3391c_db70_11ec_bdbb_96000040dfb6row18_col1,#T_bdf3391c_db70_11ec_bdbb_96000040dfb6row19_col1,#T_bdf3391c_db70_11ec_bdbb_96000040dfb6row21_col1{\n",
       "            background-color:  #fffecb;\n",
       "            color:  #000000;\n",
       "        }#T_bdf3391c_db70_11ec_bdbb_96000040dfb6row6_col2{\n",
       "            background-color:  #feb651;\n",
       "            color:  #000000;\n",
       "        }#T_bdf3391c_db70_11ec_bdbb_96000040dfb6row6_col3{\n",
       "            background-color:  #fed977;\n",
       "            color:  #000000;\n",
       "        }#T_bdf3391c_db70_11ec_bdbb_96000040dfb6row7_col2{\n",
       "            background-color:  #9f0026;\n",
       "            color:  #f1f1f1;\n",
       "        }#T_bdf3391c_db70_11ec_bdbb_96000040dfb6row7_col3{\n",
       "            background-color:  #a40026;\n",
       "            color:  #f1f1f1;\n",
       "        }#T_bdf3391c_db70_11ec_bdbb_96000040dfb6row8_col2{\n",
       "            background-color:  #fa4a29;\n",
       "            color:  #000000;\n",
       "        }#T_bdf3391c_db70_11ec_bdbb_96000040dfb6row9_col2{\n",
       "            background-color:  #f64227;\n",
       "            color:  #f1f1f1;\n",
       "        }#T_bdf3391c_db70_11ec_bdbb_96000040dfb6row9_col3{\n",
       "            background-color:  #fd863a;\n",
       "            color:  #000000;\n",
       "        }#T_bdf3391c_db70_11ec_bdbb_96000040dfb6row10_col2{\n",
       "            background-color:  #fc592d;\n",
       "            color:  #000000;\n",
       "        }#T_bdf3391c_db70_11ec_bdbb_96000040dfb6row10_col3{\n",
       "            background-color:  #fd7c37;\n",
       "            color:  #000000;\n",
       "        }#T_bdf3391c_db70_11ec_bdbb_96000040dfb6row11_col3{\n",
       "            background-color:  #fc512b;\n",
       "            color:  #000000;\n",
       "        }#T_bdf3391c_db70_11ec_bdbb_96000040dfb6row12_col2{\n",
       "            background-color:  #fea245;\n",
       "            color:  #000000;\n",
       "        }#T_bdf3391c_db70_11ec_bdbb_96000040dfb6row13_col2{\n",
       "            background-color:  #ed2e21;\n",
       "            color:  #f1f1f1;\n",
       "        }#T_bdf3391c_db70_11ec_bdbb_96000040dfb6row13_col3{\n",
       "            background-color:  #fed36f;\n",
       "            color:  #000000;\n",
       "        }#T_bdf3391c_db70_11ec_bdbb_96000040dfb6row14_col2{\n",
       "            background-color:  #fd923e;\n",
       "            color:  #000000;\n",
       "        }#T_bdf3391c_db70_11ec_bdbb_96000040dfb6row14_col3{\n",
       "            background-color:  #d6111f;\n",
       "            color:  #f1f1f1;\n",
       "        }#T_bdf3391c_db70_11ec_bdbb_96000040dfb6row15_col2{\n",
       "            background-color:  #ec2c21;\n",
       "            color:  #f1f1f1;\n",
       "        }#T_bdf3391c_db70_11ec_bdbb_96000040dfb6row15_col3{\n",
       "            background-color:  #fc5b2e;\n",
       "            color:  #000000;\n",
       "        }#T_bdf3391c_db70_11ec_bdbb_96000040dfb6row16_col2{\n",
       "            background-color:  #eb2b21;\n",
       "            color:  #f1f1f1;\n",
       "        }#T_bdf3391c_db70_11ec_bdbb_96000040dfb6row16_col3{\n",
       "            background-color:  #fb4b29;\n",
       "            color:  #000000;\n",
       "        }#T_bdf3391c_db70_11ec_bdbb_96000040dfb6row17_col2{\n",
       "            background-color:  #fc6a32;\n",
       "            color:  #000000;\n",
       "        }#T_bdf3391c_db70_11ec_bdbb_96000040dfb6row17_col3{\n",
       "            background-color:  #fc572c;\n",
       "            color:  #000000;\n",
       "        }#T_bdf3391c_db70_11ec_bdbb_96000040dfb6row18_col2{\n",
       "            background-color:  #fd6e33;\n",
       "            color:  #000000;\n",
       "        }#T_bdf3391c_db70_11ec_bdbb_96000040dfb6row19_col2{\n",
       "            background-color:  #fd933f;\n",
       "            color:  #000000;\n",
       "        }#T_bdf3391c_db70_11ec_bdbb_96000040dfb6row19_col3{\n",
       "            background-color:  #feb24c;\n",
       "            color:  #000000;\n",
       "        }</style><table id=\"T_bdf3391c_db70_11ec_bdbb_96000040dfb6\" ><caption>User retention by cohort</caption><thead>    <tr>        <th class=\"index_name level0\" >period_number</th>        <th class=\"col_heading level0 col0\" >0</th>        <th class=\"col_heading level0 col1\" >1</th>        <th class=\"col_heading level0 col2\" >2</th>        <th class=\"col_heading level0 col3\" >3</th>    </tr>    <tr>        <th class=\"index_name level0\" >cohort</th>        <th class=\"blank\" ></th>        <th class=\"blank\" ></th>        <th class=\"blank\" ></th>        <th class=\"blank\" ></th>    </tr></thead><tbody>\n",
       "                <tr>\n",
       "                        <th id=\"T_bdf3391c_db70_11ec_bdbb_96000040dfb6level0_row0\" class=\"row_heading level0 row0\" >2016-09</th>\n",
       "                        <td id=\"T_bdf3391c_db70_11ec_bdbb_96000040dfb6row0_col0\" class=\"data row0 col0\" >100.00%</td>\n",
       "                        <td id=\"T_bdf3391c_db70_11ec_bdbb_96000040dfb6row0_col1\" class=\"data row0 col1\" ></td>\n",
       "                        <td id=\"T_bdf3391c_db70_11ec_bdbb_96000040dfb6row0_col2\" class=\"data row0 col2\" ></td>\n",
       "                        <td id=\"T_bdf3391c_db70_11ec_bdbb_96000040dfb6row0_col3\" class=\"data row0 col3\" ></td>\n",
       "            </tr>\n",
       "            <tr>\n",
       "                        <th id=\"T_bdf3391c_db70_11ec_bdbb_96000040dfb6level0_row1\" class=\"row_heading level0 row1\" >2016-10</th>\n",
       "                        <td id=\"T_bdf3391c_db70_11ec_bdbb_96000040dfb6row1_col0\" class=\"data row1 col0\" >100.00%</td>\n",
       "                        <td id=\"T_bdf3391c_db70_11ec_bdbb_96000040dfb6row1_col1\" class=\"data row1 col1\" ></td>\n",
       "                        <td id=\"T_bdf3391c_db70_11ec_bdbb_96000040dfb6row1_col2\" class=\"data row1 col2\" ></td>\n",
       "                        <td id=\"T_bdf3391c_db70_11ec_bdbb_96000040dfb6row1_col3\" class=\"data row1 col3\" ></td>\n",
       "            </tr>\n",
       "            <tr>\n",
       "                        <th id=\"T_bdf3391c_db70_11ec_bdbb_96000040dfb6level0_row2\" class=\"row_heading level0 row2\" >2016-12</th>\n",
       "                        <td id=\"T_bdf3391c_db70_11ec_bdbb_96000040dfb6row2_col0\" class=\"data row2 col0\" >100.00%</td>\n",
       "                        <td id=\"T_bdf3391c_db70_11ec_bdbb_96000040dfb6row2_col1\" class=\"data row2 col1\" >100.00%</td>\n",
       "                        <td id=\"T_bdf3391c_db70_11ec_bdbb_96000040dfb6row2_col2\" class=\"data row2 col2\" ></td>\n",
       "                        <td id=\"T_bdf3391c_db70_11ec_bdbb_96000040dfb6row2_col3\" class=\"data row2 col3\" ></td>\n",
       "            </tr>\n",
       "            <tr>\n",
       "                        <th id=\"T_bdf3391c_db70_11ec_bdbb_96000040dfb6level0_row3\" class=\"row_heading level0 row3\" >2017-01</th>\n",
       "                        <td id=\"T_bdf3391c_db70_11ec_bdbb_96000040dfb6row3_col0\" class=\"data row3 col0\" >100.00%</td>\n",
       "                        <td id=\"T_bdf3391c_db70_11ec_bdbb_96000040dfb6row3_col1\" class=\"data row3 col1\" >0.39%</td>\n",
       "                        <td id=\"T_bdf3391c_db70_11ec_bdbb_96000040dfb6row3_col2\" class=\"data row3 col2\" >0.26%</td>\n",
       "                        <td id=\"T_bdf3391c_db70_11ec_bdbb_96000040dfb6row3_col3\" class=\"data row3 col3\" >0.13%</td>\n",
       "            </tr>\n",
       "            <tr>\n",
       "                        <th id=\"T_bdf3391c_db70_11ec_bdbb_96000040dfb6level0_row4\" class=\"row_heading level0 row4\" >2017-02</th>\n",
       "                        <td id=\"T_bdf3391c_db70_11ec_bdbb_96000040dfb6row4_col0\" class=\"data row4 col0\" >100.00%</td>\n",
       "                        <td id=\"T_bdf3391c_db70_11ec_bdbb_96000040dfb6row4_col1\" class=\"data row4 col1\" >0.23%</td>\n",
       "                        <td id=\"T_bdf3391c_db70_11ec_bdbb_96000040dfb6row4_col2\" class=\"data row4 col2\" >0.29%</td>\n",
       "                        <td id=\"T_bdf3391c_db70_11ec_bdbb_96000040dfb6row4_col3\" class=\"data row4 col3\" >0.11%</td>\n",
       "            </tr>\n",
       "            <tr>\n",
       "                        <th id=\"T_bdf3391c_db70_11ec_bdbb_96000040dfb6level0_row5\" class=\"row_heading level0 row5\" >2017-03</th>\n",
       "                        <td id=\"T_bdf3391c_db70_11ec_bdbb_96000040dfb6row5_col0\" class=\"data row5 col0\" >100.00%</td>\n",
       "                        <td id=\"T_bdf3391c_db70_11ec_bdbb_96000040dfb6row5_col1\" class=\"data row5 col1\" >0.49%</td>\n",
       "                        <td id=\"T_bdf3391c_db70_11ec_bdbb_96000040dfb6row5_col2\" class=\"data row5 col2\" >0.38%</td>\n",
       "                        <td id=\"T_bdf3391c_db70_11ec_bdbb_96000040dfb6row5_col3\" class=\"data row5 col3\" >0.38%</td>\n",
       "            </tr>\n",
       "            <tr>\n",
       "                        <th id=\"T_bdf3391c_db70_11ec_bdbb_96000040dfb6level0_row6\" class=\"row_heading level0 row6\" >2017-04</th>\n",
       "                        <td id=\"T_bdf3391c_db70_11ec_bdbb_96000040dfb6row6_col0\" class=\"data row6 col0\" >100.00%</td>\n",
       "                        <td id=\"T_bdf3391c_db70_11ec_bdbb_96000040dfb6row6_col1\" class=\"data row6 col1\" >0.60%</td>\n",
       "                        <td id=\"T_bdf3391c_db70_11ec_bdbb_96000040dfb6row6_col2\" class=\"data row6 col2\" >0.21%</td>\n",
       "                        <td id=\"T_bdf3391c_db70_11ec_bdbb_96000040dfb6row6_col3\" class=\"data row6 col3\" >0.17%</td>\n",
       "            </tr>\n",
       "            <tr>\n",
       "                        <th id=\"T_bdf3391c_db70_11ec_bdbb_96000040dfb6level0_row7\" class=\"row_heading level0 row7\" >2017-05</th>\n",
       "                        <td id=\"T_bdf3391c_db70_11ec_bdbb_96000040dfb6row7_col0\" class=\"data row7 col0\" >100.00%</td>\n",
       "                        <td id=\"T_bdf3391c_db70_11ec_bdbb_96000040dfb6row7_col1\" class=\"data row7 col1\" >0.50%</td>\n",
       "                        <td id=\"T_bdf3391c_db70_11ec_bdbb_96000040dfb6row7_col2\" class=\"data row7 col2\" >0.50%</td>\n",
       "                        <td id=\"T_bdf3391c_db70_11ec_bdbb_96000040dfb6row7_col3\" class=\"data row7 col3\" >0.39%</td>\n",
       "            </tr>\n",
       "            <tr>\n",
       "                        <th id=\"T_bdf3391c_db70_11ec_bdbb_96000040dfb6level0_row8\" class=\"row_heading level0 row8\" >2017-06</th>\n",
       "                        <td id=\"T_bdf3391c_db70_11ec_bdbb_96000040dfb6row8_col0\" class=\"data row8 col0\" >100.00%</td>\n",
       "                        <td id=\"T_bdf3391c_db70_11ec_bdbb_96000040dfb6row8_col1\" class=\"data row8 col1\" >0.48%</td>\n",
       "                        <td id=\"T_bdf3391c_db70_11ec_bdbb_96000040dfb6row8_col2\" class=\"data row8 col2\" >0.35%</td>\n",
       "                        <td id=\"T_bdf3391c_db70_11ec_bdbb_96000040dfb6row8_col3\" class=\"data row8 col3\" >0.41%</td>\n",
       "            </tr>\n",
       "            <tr>\n",
       "                        <th id=\"T_bdf3391c_db70_11ec_bdbb_96000040dfb6level0_row9\" class=\"row_heading level0 row9\" >2017-07</th>\n",
       "                        <td id=\"T_bdf3391c_db70_11ec_bdbb_96000040dfb6row9_col0\" class=\"data row9 col0\" >100.00%</td>\n",
       "                        <td id=\"T_bdf3391c_db70_11ec_bdbb_96000040dfb6row9_col1\" class=\"data row9 col1\" >0.51%</td>\n",
       "                        <td id=\"T_bdf3391c_db70_11ec_bdbb_96000040dfb6row9_col2\" class=\"data row9 col2\" >0.36%</td>\n",
       "                        <td id=\"T_bdf3391c_db70_11ec_bdbb_96000040dfb6row9_col3\" class=\"data row9 col3\" >0.26%</td>\n",
       "            </tr>\n",
       "            <tr>\n",
       "                        <th id=\"T_bdf3391c_db70_11ec_bdbb_96000040dfb6level0_row10\" class=\"row_heading level0 row10\" >2017-08</th>\n",
       "                        <td id=\"T_bdf3391c_db70_11ec_bdbb_96000040dfb6row10_col0\" class=\"data row10 col0\" >100.00%</td>\n",
       "                        <td id=\"T_bdf3391c_db70_11ec_bdbb_96000040dfb6row10_col1\" class=\"data row10 col1\" >0.69%</td>\n",
       "                        <td id=\"T_bdf3391c_db70_11ec_bdbb_96000040dfb6row10_col2\" class=\"data row10 col2\" >0.33%</td>\n",
       "                        <td id=\"T_bdf3391c_db70_11ec_bdbb_96000040dfb6row10_col3\" class=\"data row10 col3\" >0.26%</td>\n",
       "            </tr>\n",
       "            <tr>\n",
       "                        <th id=\"T_bdf3391c_db70_11ec_bdbb_96000040dfb6level0_row11\" class=\"row_heading level0 row11\" >2017-09</th>\n",
       "                        <td id=\"T_bdf3391c_db70_11ec_bdbb_96000040dfb6row11_col0\" class=\"data row11 col0\" >100.00%</td>\n",
       "                        <td id=\"T_bdf3391c_db70_11ec_bdbb_96000040dfb6row11_col1\" class=\"data row11 col1\" >0.68%</td>\n",
       "                        <td id=\"T_bdf3391c_db70_11ec_bdbb_96000040dfb6row11_col2\" class=\"data row11 col2\" >0.53%</td>\n",
       "                        <td id=\"T_bdf3391c_db70_11ec_bdbb_96000040dfb6row11_col3\" class=\"data row11 col3\" >0.29%</td>\n",
       "            </tr>\n",
       "            <tr>\n",
       "                        <th id=\"T_bdf3391c_db70_11ec_bdbb_96000040dfb6level0_row12\" class=\"row_heading level0 row12\" >2017-10</th>\n",
       "                        <td id=\"T_bdf3391c_db70_11ec_bdbb_96000040dfb6row12_col0\" class=\"data row12 col0\" >100.00%</td>\n",
       "                        <td id=\"T_bdf3391c_db70_11ec_bdbb_96000040dfb6row12_col1\" class=\"data row12 col1\" >0.69%</td>\n",
       "                        <td id=\"T_bdf3391c_db70_11ec_bdbb_96000040dfb6row12_col2\" class=\"data row12 col2\" >0.25%</td>\n",
       "                        <td id=\"T_bdf3391c_db70_11ec_bdbb_96000040dfb6row12_col3\" class=\"data row12 col3\" >0.09%</td>\n",
       "            </tr>\n",
       "            <tr>\n",
       "                        <th id=\"T_bdf3391c_db70_11ec_bdbb_96000040dfb6level0_row13\" class=\"row_heading level0 row13\" >2017-11</th>\n",
       "                        <td id=\"T_bdf3391c_db70_11ec_bdbb_96000040dfb6row13_col0\" class=\"data row13 col0\" >100.00%</td>\n",
       "                        <td id=\"T_bdf3391c_db70_11ec_bdbb_96000040dfb6row13_col1\" class=\"data row13 col1\" >0.55%</td>\n",
       "                        <td id=\"T_bdf3391c_db70_11ec_bdbb_96000040dfb6row13_col2\" class=\"data row13 col2\" >0.38%</td>\n",
       "                        <td id=\"T_bdf3391c_db70_11ec_bdbb_96000040dfb6row13_col3\" class=\"data row13 col3\" >0.18%</td>\n",
       "            </tr>\n",
       "            <tr>\n",
       "                        <th id=\"T_bdf3391c_db70_11ec_bdbb_96000040dfb6level0_row14\" class=\"row_heading level0 row14\" >2017-12</th>\n",
       "                        <td id=\"T_bdf3391c_db70_11ec_bdbb_96000040dfb6row14_col0\" class=\"data row14 col0\" >100.00%</td>\n",
       "                        <td id=\"T_bdf3391c_db70_11ec_bdbb_96000040dfb6row14_col1\" class=\"data row14 col1\" >0.26%</td>\n",
       "                        <td id=\"T_bdf3391c_db70_11ec_bdbb_96000040dfb6row14_col2\" class=\"data row14 col2\" >0.27%</td>\n",
       "                        <td id=\"T_bdf3391c_db70_11ec_bdbb_96000040dfb6row14_col3\" class=\"data row14 col3\" >0.35%</td>\n",
       "            </tr>\n",
       "            <tr>\n",
       "                        <th id=\"T_bdf3391c_db70_11ec_bdbb_96000040dfb6level0_row15\" class=\"row_heading level0 row15\" >2018-01</th>\n",
       "                        <td id=\"T_bdf3391c_db70_11ec_bdbb_96000040dfb6row15_col0\" class=\"data row15 col0\" >100.00%</td>\n",
       "                        <td id=\"T_bdf3391c_db70_11ec_bdbb_96000040dfb6row15_col1\" class=\"data row15 col1\" >0.34%</td>\n",
       "                        <td id=\"T_bdf3391c_db70_11ec_bdbb_96000040dfb6row15_col2\" class=\"data row15 col2\" >0.38%</td>\n",
       "                        <td id=\"T_bdf3391c_db70_11ec_bdbb_96000040dfb6row15_col3\" class=\"data row15 col3\" >0.28%</td>\n",
       "            </tr>\n",
       "            <tr>\n",
       "                        <th id=\"T_bdf3391c_db70_11ec_bdbb_96000040dfb6level0_row16\" class=\"row_heading level0 row16\" >2018-02</th>\n",
       "                        <td id=\"T_bdf3391c_db70_11ec_bdbb_96000040dfb6row16_col0\" class=\"data row16 col0\" >100.00%</td>\n",
       "                        <td id=\"T_bdf3391c_db70_11ec_bdbb_96000040dfb6row16_col1\" class=\"data row16 col1\" >0.39%</td>\n",
       "                        <td id=\"T_bdf3391c_db70_11ec_bdbb_96000040dfb6row16_col2\" class=\"data row16 col2\" >0.39%</td>\n",
       "                        <td id=\"T_bdf3391c_db70_11ec_bdbb_96000040dfb6row16_col3\" class=\"data row16 col3\" >0.29%</td>\n",
       "            </tr>\n",
       "            <tr>\n",
       "                        <th id=\"T_bdf3391c_db70_11ec_bdbb_96000040dfb6level0_row17\" class=\"row_heading level0 row17\" >2018-03</th>\n",
       "                        <td id=\"T_bdf3391c_db70_11ec_bdbb_96000040dfb6row17_col0\" class=\"data row17 col0\" >100.00%</td>\n",
       "                        <td id=\"T_bdf3391c_db70_11ec_bdbb_96000040dfb6row17_col1\" class=\"data row17 col1\" >0.46%</td>\n",
       "                        <td id=\"T_bdf3391c_db70_11ec_bdbb_96000040dfb6row17_col2\" class=\"data row17 col2\" >0.32%</td>\n",
       "                        <td id=\"T_bdf3391c_db70_11ec_bdbb_96000040dfb6row17_col3\" class=\"data row17 col3\" >0.29%</td>\n",
       "            </tr>\n",
       "            <tr>\n",
       "                        <th id=\"T_bdf3391c_db70_11ec_bdbb_96000040dfb6level0_row18\" class=\"row_heading level0 row18\" >2018-04</th>\n",
       "                        <td id=\"T_bdf3391c_db70_11ec_bdbb_96000040dfb6row18_col0\" class=\"data row18 col0\" >100.00%</td>\n",
       "                        <td id=\"T_bdf3391c_db70_11ec_bdbb_96000040dfb6row18_col1\" class=\"data row18 col1\" >0.58%</td>\n",
       "                        <td id=\"T_bdf3391c_db70_11ec_bdbb_96000040dfb6row18_col2\" class=\"data row18 col2\" >0.31%</td>\n",
       "                        <td id=\"T_bdf3391c_db70_11ec_bdbb_96000040dfb6row18_col3\" class=\"data row18 col3\" >0.24%</td>\n",
       "            </tr>\n",
       "            <tr>\n",
       "                        <th id=\"T_bdf3391c_db70_11ec_bdbb_96000040dfb6level0_row19\" class=\"row_heading level0 row19\" >2018-05</th>\n",
       "                        <td id=\"T_bdf3391c_db70_11ec_bdbb_96000040dfb6row19_col0\" class=\"data row19 col0\" >100.00%</td>\n",
       "                        <td id=\"T_bdf3391c_db70_11ec_bdbb_96000040dfb6row19_col1\" class=\"data row19 col1\" >0.53%</td>\n",
       "                        <td id=\"T_bdf3391c_db70_11ec_bdbb_96000040dfb6row19_col2\" class=\"data row19 col2\" >0.27%</td>\n",
       "                        <td id=\"T_bdf3391c_db70_11ec_bdbb_96000040dfb6row19_col3\" class=\"data row19 col3\" >0.21%</td>\n",
       "            </tr>\n",
       "            <tr>\n",
       "                        <th id=\"T_bdf3391c_db70_11ec_bdbb_96000040dfb6level0_row20\" class=\"row_heading level0 row20\" >2018-06</th>\n",
       "                        <td id=\"T_bdf3391c_db70_11ec_bdbb_96000040dfb6row20_col0\" class=\"data row20 col0\" >100.00%</td>\n",
       "                        <td id=\"T_bdf3391c_db70_11ec_bdbb_96000040dfb6row20_col1\" class=\"data row20 col1\" >0.42%</td>\n",
       "                        <td id=\"T_bdf3391c_db70_11ec_bdbb_96000040dfb6row20_col2\" class=\"data row20 col2\" >0.29%</td>\n",
       "                        <td id=\"T_bdf3391c_db70_11ec_bdbb_96000040dfb6row20_col3\" class=\"data row20 col3\" ></td>\n",
       "            </tr>\n",
       "            <tr>\n",
       "                        <th id=\"T_bdf3391c_db70_11ec_bdbb_96000040dfb6level0_row21\" class=\"row_heading level0 row21\" >2018-07</th>\n",
       "                        <td id=\"T_bdf3391c_db70_11ec_bdbb_96000040dfb6row21_col0\" class=\"data row21 col0\" >100.00%</td>\n",
       "                        <td id=\"T_bdf3391c_db70_11ec_bdbb_96000040dfb6row21_col1\" class=\"data row21 col1\" >0.72%</td>\n",
       "                        <td id=\"T_bdf3391c_db70_11ec_bdbb_96000040dfb6row21_col2\" class=\"data row21 col2\" >0.03%</td>\n",
       "                        <td id=\"T_bdf3391c_db70_11ec_bdbb_96000040dfb6row21_col3\" class=\"data row21 col3\" ></td>\n",
       "            </tr>\n",
       "            <tr>\n",
       "                        <th id=\"T_bdf3391c_db70_11ec_bdbb_96000040dfb6level0_row22\" class=\"row_heading level0 row22\" >2018-08</th>\n",
       "                        <td id=\"T_bdf3391c_db70_11ec_bdbb_96000040dfb6row22_col0\" class=\"data row22 col0\" >100.00%</td>\n",
       "                        <td id=\"T_bdf3391c_db70_11ec_bdbb_96000040dfb6row22_col1\" class=\"data row22 col1\" >0.11%</td>\n",
       "                        <td id=\"T_bdf3391c_db70_11ec_bdbb_96000040dfb6row22_col2\" class=\"data row22 col2\" >0.03%</td>\n",
       "                        <td id=\"T_bdf3391c_db70_11ec_bdbb_96000040dfb6row22_col3\" class=\"data row22 col3\" ></td>\n",
       "            </tr>\n",
       "            <tr>\n",
       "                        <th id=\"T_bdf3391c_db70_11ec_bdbb_96000040dfb6level0_row23\" class=\"row_heading level0 row23\" >2018-09</th>\n",
       "                        <td id=\"T_bdf3391c_db70_11ec_bdbb_96000040dfb6row23_col0\" class=\"data row23 col0\" >100.00%</td>\n",
       "                        <td id=\"T_bdf3391c_db70_11ec_bdbb_96000040dfb6row23_col1\" class=\"data row23 col1\" ></td>\n",
       "                        <td id=\"T_bdf3391c_db70_11ec_bdbb_96000040dfb6row23_col2\" class=\"data row23 col2\" ></td>\n",
       "                        <td id=\"T_bdf3391c_db70_11ec_bdbb_96000040dfb6row23_col3\" class=\"data row23 col3\" ></td>\n",
       "            </tr>\n",
       "            <tr>\n",
       "                        <th id=\"T_bdf3391c_db70_11ec_bdbb_96000040dfb6level0_row24\" class=\"row_heading level0 row24\" >2018-10</th>\n",
       "                        <td id=\"T_bdf3391c_db70_11ec_bdbb_96000040dfb6row24_col0\" class=\"data row24 col0\" >100.00%</td>\n",
       "                        <td id=\"T_bdf3391c_db70_11ec_bdbb_96000040dfb6row24_col1\" class=\"data row24 col1\" ></td>\n",
       "                        <td id=\"T_bdf3391c_db70_11ec_bdbb_96000040dfb6row24_col2\" class=\"data row24 col2\" ></td>\n",
       "                        <td id=\"T_bdf3391c_db70_11ec_bdbb_96000040dfb6row24_col3\" class=\"data row24 col3\" ></td>\n",
       "            </tr>\n",
       "    </tbody></table>"
      ],
      "text/plain": [
       "<pandas.io.formats.style.Styler at 0x7f03d4e30710>"
      ]
     },
     "execution_count": 11,
     "metadata": {},
     "output_type": "execute_result"
    }
   ],
   "source": [
    "cohort_analysis_visualization(retention)"
   ]
  },
  {
   "cell_type": "markdown",
   "metadata": {},
   "source": [
    "В период с января по декабрь 2017 года когорта с самым высоким retention на 3-й месяц:"
   ]
  },
  {
   "cell_type": "code",
   "execution_count": 112,
   "metadata": {},
   "outputs": [
    {
     "name": "stdout",
     "output_type": "stream",
     "text": [
      "2017-09\n"
     ]
    }
   ],
   "source": [
    "print(retention[2].idxmax())"
   ]
  },
  {
   "cell_type": "markdown",
   "metadata": {},
   "source": [
    "---"
   ]
  },
  {
   "cell_type": "markdown",
   "metadata": {},
   "source": [
    "### 6. Построй RFM-кластеры для пользователей. Выведи для каждого кластера средние значения метрик R, F, M (и опиши подробно, как были построены метрики R, F, M)."
   ]
  },
  {
   "cell_type": "markdown",
   "metadata": {},
   "source": [
    "Рассчитаем метрики R, F, M:\n",
    "   R - recency — давность (как давно ваши клиенты что-то покупали);\n",
    "   F - frequency — частота (как часто клиенты покупают);  \n",
    "   M - monetary — деньги (общая сумма покупок).\n",
    "Для этого объединим датасеты с заказами, клиентами и продуктами:"
   ]
  },
  {
   "cell_type": "code",
   "execution_count": 46,
   "metadata": {},
   "outputs": [],
   "source": [
    "# мерджим таблицы с заказами и клиентами и выбираем нужные столбцы\n",
    "data6 = pd.merge(customers_data, orders_data, on='customer_id')\n",
    "data6 = data6[['customer_unique_id', 'order_id', 'order_purchase_timestamp']]"
   ]
  },
  {
   "cell_type": "code",
   "execution_count": 47,
   "metadata": {},
   "outputs": [],
   "source": [
    "# таблицу с продуктами группируем по Id заказа и суммируем цену(price)\n",
    "data_product = order_items_data.groupby(['order_id'], as_index=False).agg({'price': sum})\n"
   ]
  },
  {
   "cell_type": "code",
   "execution_count": 48,
   "metadata": {},
   "outputs": [],
   "source": [
    "# мерджим таблицы с клиентами и заказами и продуктами\n",
    "data = pd.merge(data6, data_product, on='order_id' )"
   ]
  },
  {
   "cell_type": "code",
   "execution_count": 51,
   "metadata": {
    "scrolled": true
   },
   "outputs": [
    {
     "data": {
      "text/html": [
       "<div>\n",
       "<style scoped>\n",
       "    .dataframe tbody tr th:only-of-type {\n",
       "        vertical-align: middle;\n",
       "    }\n",
       "\n",
       "    .dataframe tbody tr th {\n",
       "        vertical-align: top;\n",
       "    }\n",
       "\n",
       "    .dataframe thead th {\n",
       "        text-align: right;\n",
       "    }\n",
       "</style>\n",
       "<table border=\"1\" class=\"dataframe\">\n",
       "  <thead>\n",
       "    <tr style=\"text-align: right;\">\n",
       "      <th></th>\n",
       "      <th>customer_unique_id</th>\n",
       "      <th>order_id</th>\n",
       "      <th>order_purchase_timestamp</th>\n",
       "      <th>price</th>\n",
       "    </tr>\n",
       "  </thead>\n",
       "  <tbody>\n",
       "    <tr>\n",
       "      <th>0</th>\n",
       "      <td>861eff4711a542e4b93843c6dd7febb0</td>\n",
       "      <td>00e7ee1b050b8499577073aeb2a297a1</td>\n",
       "      <td>2017-05-16 15:05:35</td>\n",
       "      <td>124.99</td>\n",
       "    </tr>\n",
       "    <tr>\n",
       "      <th>1</th>\n",
       "      <td>290c77bc529b7ac935b93aa66c333dc3</td>\n",
       "      <td>29150127e6685892b6eab3eec79f59c7</td>\n",
       "      <td>2018-01-12 20:48:24</td>\n",
       "      <td>289.00</td>\n",
       "    </tr>\n",
       "  </tbody>\n",
       "</table>\n",
       "</div>"
      ],
      "text/plain": [
       "                 customer_unique_id                          order_id  \\\n",
       "0  861eff4711a542e4b93843c6dd7febb0  00e7ee1b050b8499577073aeb2a297a1   \n",
       "1  290c77bc529b7ac935b93aa66c333dc3  29150127e6685892b6eab3eec79f59c7   \n",
       "\n",
       "  order_purchase_timestamp   price  \n",
       "0      2017-05-16 15:05:35  124.99  \n",
       "1      2018-01-12 20:48:24  289.00  "
      ]
     },
     "execution_count": 51,
     "metadata": {},
     "output_type": "execute_result"
    }
   ],
   "source": [
    "data.head(2)"
   ]
  },
  {
   "cell_type": "markdown",
   "metadata": {},
   "source": [
    "Для расчета метрики R воспользуемся формулой: текущая дата - последняя дата заказа пользователя. \n",
    "\n",
    "Для расчета метрики M необходимо сгруппировать данные по клиентами и суммировать столбец price, для того чтобы расчитать общее количество денег, потраченных клиентом.\n",
    "\n",
    "Для расчета F также нужно сгруппировать данные по клиентам и посчитать количество заказов, совершенных пользователем. "
   ]
  },
  {
   "cell_type": "markdown",
   "metadata": {},
   "source": [
    "Т.к. данные представлены за период до 18 года, вместо текущей даты будет использована самая поздняя дата заказа + 1 день: "
   ]
  },
  {
   "cell_type": "code",
   "execution_count": 62,
   "metadata": {},
   "outputs": [],
   "source": [
    "max_date = max(data.order_purchase_timestamp) +  dt.timedelta(days=1)"
   ]
  },
  {
   "cell_type": "code",
   "execution_count": 63,
   "metadata": {},
   "outputs": [],
   "source": [
    "# записываем в df расчитанные метрики \n",
    "df_rfm = data.groupby('customer_unique_id', as_index=False)\\\n",
    ".agg({'order_purchase_timestamp': lambda x: (max_date - x.max()).days, 'order_id': 'count', 'price': 'sum'})\\\n",
    ".rename(columns= {'order_purchase_timestamp': 'recency', 'order_id': 'frequency', 'price': 'monetary'})\\\n",
    ".round(2)"
   ]
  },
  {
   "cell_type": "code",
   "execution_count": 64,
   "metadata": {},
   "outputs": [
    {
     "data": {
      "text/html": [
       "<div>\n",
       "<style scoped>\n",
       "    .dataframe tbody tr th:only-of-type {\n",
       "        vertical-align: middle;\n",
       "    }\n",
       "\n",
       "    .dataframe tbody tr th {\n",
       "        vertical-align: top;\n",
       "    }\n",
       "\n",
       "    .dataframe thead th {\n",
       "        text-align: right;\n",
       "    }\n",
       "</style>\n",
       "<table border=\"1\" class=\"dataframe\">\n",
       "  <thead>\n",
       "    <tr style=\"text-align: right;\">\n",
       "      <th></th>\n",
       "      <th>customer_unique_id</th>\n",
       "      <th>recency</th>\n",
       "      <th>frequency</th>\n",
       "      <th>monetary</th>\n",
       "    </tr>\n",
       "  </thead>\n",
       "  <tbody>\n",
       "    <tr>\n",
       "      <th>0</th>\n",
       "      <td>0000366f3b9a7992bf8c76cfdf3221e2</td>\n",
       "      <td>116</td>\n",
       "      <td>1</td>\n",
       "      <td>129.9</td>\n",
       "    </tr>\n",
       "    <tr>\n",
       "      <th>1</th>\n",
       "      <td>0000b849f77a49e4a4ce2b2a4ca5be3f</td>\n",
       "      <td>119</td>\n",
       "      <td>1</td>\n",
       "      <td>18.9</td>\n",
       "    </tr>\n",
       "  </tbody>\n",
       "</table>\n",
       "</div>"
      ],
      "text/plain": [
       "                 customer_unique_id  recency  frequency  monetary\n",
       "0  0000366f3b9a7992bf8c76cfdf3221e2      116          1     129.9\n",
       "1  0000b849f77a49e4a4ce2b2a4ca5be3f      119          1      18.9"
      ]
     },
     "execution_count": 64,
     "metadata": {},
     "output_type": "execute_result"
    }
   ],
   "source": [
    "df_rfm.head(2)"
   ]
  },
  {
   "cell_type": "markdown",
   "metadata": {},
   "source": [
    "Далее строим RFM-кластеры. Для этого разбиваем каждую метрику на 3 группы.\n",
    "\n",
    "Метрики recency и monetary разбиваем на основе квантилей, а для frequency задаем интервалы в ручную, т.к. более 75% пользователей совершили только 1 заказ."
   ]
  },
  {
   "cell_type": "code",
   "execution_count": 66,
   "metadata": {},
   "outputs": [],
   "source": [
    "df_rfm['R'] = pd.qcut(df_rfm['recency'], 3, ['3', '2', '1'])\n",
    "df_rfm['F'] = pd.cut(df_rfm['frequency'], bins=[0, 1, 7, 20], labels=['1', '2', '3'])\n",
    "df_rfm['M'] = pd.qcut(df_rfm['monetary'], 3, ['1', '2', '3'])"
   ]
  },
  {
   "cell_type": "markdown",
   "metadata": {},
   "source": [
    "R: \n",
    "\n",
    "     1 - давние (> 296 дней),   \n",
    "     2 - относительно недавние ('спящие') (154 - 296 дней),  \n",
    "     3 - недавние (< 154 дней).\n",
    "    \n",
    "F: \n",
    "\n",
    "     1 - разовая (< 1),  \n",
    "     2 - редкие (1 - 7),  \n",
    "     3 - частые (> 7).    \n",
    "    \n",
    "M: \n",
    "\n",
    "     1 - низкий чек (< 58.9),  \n",
    "     2 - средний чек (58.9 - 128.9),  \n",
    "     3 - высокий чек (> 128.9). \n",
    "    "
   ]
  },
  {
   "cell_type": "code",
   "execution_count": 67,
   "metadata": {},
   "outputs": [],
   "source": [
    "# Создаем колонку с сегментами\n",
    "df_rfm['RFM'] = df_rfm['R'].astype('str') + df_rfm['F'].astype('str') + df_rfm['M'].astype('str')"
   ]
  },
  {
   "cell_type": "markdown",
   "metadata": {},
   "source": [
    "Cредние значения метрик R, F, M для каждого сегмента:"
   ]
  },
  {
   "cell_type": "code",
   "execution_count": 68,
   "metadata": {},
   "outputs": [],
   "source": [
    "mean_rfm = df_rfm.groupby('RFM', as_index=False)\\\n",
    ".agg({'recency': 'mean', 'frequency': 'mean', 'monetary': 'mean'})\\\n",
    ".round(2)"
   ]
  },
  {
   "cell_type": "code",
   "execution_count": 59,
   "metadata": {},
   "outputs": [],
   "source": [
    "def cluster_description(x):\n",
    "    \"\"\" Функция для описания сегментов (кластеров)\n",
    "    параметры:\n",
    "          x - номер сегмента           \n",
    "    \"\"\"\n",
    "    \n",
    "    k = ''\n",
    "    if x[0] == '1':\n",
    "        k += 'давние, '\n",
    "    elif x[0] == '2':\n",
    "         k += 'спящие, '\n",
    "    else:\n",
    "        k += 'недавние, '\n",
    "        \n",
    "        \n",
    "    if x[1] == '1':\n",
    "        k += 'разовая покупка, '\n",
    "    elif x[1] == '2':\n",
    "         k += 'редкие покупки, '\n",
    "    else:\n",
    "        k += 'частые покупки, '\n",
    "        \n",
    "        \n",
    "    if x[2] == '1':\n",
    "        k += 'низкий чек'\n",
    "    elif x[2] == '2':\n",
    "         k += 'средний чек'\n",
    "    else:\n",
    "        k += 'высокий чек'   \n",
    "        \n",
    "    return k"
   ]
  },
  {
   "cell_type": "code",
   "execution_count": 69,
   "metadata": {},
   "outputs": [],
   "source": [
    "mean_rfm['cluster_description'] = mean_rfm['RFM'].apply(lambda x: cluster_description(x))"
   ]
  },
  {
   "cell_type": "code",
   "execution_count": 70,
   "metadata": {
    "scrolled": false
   },
   "outputs": [
    {
     "data": {
      "text/html": [
       "<div>\n",
       "<style scoped>\n",
       "    .dataframe tbody tr th:only-of-type {\n",
       "        vertical-align: middle;\n",
       "    }\n",
       "\n",
       "    .dataframe tbody tr th {\n",
       "        vertical-align: top;\n",
       "    }\n",
       "\n",
       "    .dataframe thead th {\n",
       "        text-align: right;\n",
       "    }\n",
       "</style>\n",
       "<table border=\"1\" class=\"dataframe\">\n",
       "  <thead>\n",
       "    <tr style=\"text-align: right;\">\n",
       "      <th></th>\n",
       "      <th>RFM</th>\n",
       "      <th>recency</th>\n",
       "      <th>frequency</th>\n",
       "      <th>monetary</th>\n",
       "      <th>cluster_description</th>\n",
       "    </tr>\n",
       "  </thead>\n",
       "  <tbody>\n",
       "    <tr>\n",
       "      <th>0</th>\n",
       "      <td>111</td>\n",
       "      <td>426.48</td>\n",
       "      <td>1.00</td>\n",
       "      <td>34.64</td>\n",
       "      <td>давние, разовая покупка, низкий чек</td>\n",
       "    </tr>\n",
       "    <tr>\n",
       "      <th>1</th>\n",
       "      <td>112</td>\n",
       "      <td>424.17</td>\n",
       "      <td>1.00</td>\n",
       "      <td>87.61</td>\n",
       "      <td>давние, разовая покупка, средний чек</td>\n",
       "    </tr>\n",
       "    <tr>\n",
       "      <th>2</th>\n",
       "      <td>113</td>\n",
       "      <td>425.19</td>\n",
       "      <td>1.00</td>\n",
       "      <td>312.56</td>\n",
       "      <td>давние, разовая покупка, высокий чек</td>\n",
       "    </tr>\n",
       "    <tr>\n",
       "      <th>3</th>\n",
       "      <td>121</td>\n",
       "      <td>446.92</td>\n",
       "      <td>2.13</td>\n",
       "      <td>42.84</td>\n",
       "      <td>давние, редкие покупки, низкий чек</td>\n",
       "    </tr>\n",
       "    <tr>\n",
       "      <th>4</th>\n",
       "      <td>122</td>\n",
       "      <td>409.32</td>\n",
       "      <td>2.03</td>\n",
       "      <td>96.42</td>\n",
       "      <td>давние, редкие покупки, средний чек</td>\n",
       "    </tr>\n",
       "    <tr>\n",
       "      <th>5</th>\n",
       "      <td>123</td>\n",
       "      <td>407.00</td>\n",
       "      <td>2.11</td>\n",
       "      <td>358.66</td>\n",
       "      <td>давние, редкие покупки, высокий чек</td>\n",
       "    </tr>\n",
       "    <tr>\n",
       "      <th>6</th>\n",
       "      <td>211</td>\n",
       "      <td>225.66</td>\n",
       "      <td>1.00</td>\n",
       "      <td>35.11</td>\n",
       "      <td>спящие, разовая покупка, низкий чек</td>\n",
       "    </tr>\n",
       "    <tr>\n",
       "      <th>7</th>\n",
       "      <td>212</td>\n",
       "      <td>227.15</td>\n",
       "      <td>1.00</td>\n",
       "      <td>89.87</td>\n",
       "      <td>спящие, разовая покупка, средний чек</td>\n",
       "    </tr>\n",
       "    <tr>\n",
       "      <th>8</th>\n",
       "      <td>213</td>\n",
       "      <td>226.07</td>\n",
       "      <td>1.00</td>\n",
       "      <td>282.61</td>\n",
       "      <td>спящие, разовая покупка, высокий чек</td>\n",
       "    </tr>\n",
       "    <tr>\n",
       "      <th>9</th>\n",
       "      <td>221</td>\n",
       "      <td>223.72</td>\n",
       "      <td>2.02</td>\n",
       "      <td>43.82</td>\n",
       "      <td>спящие, редкие покупки, низкий чек</td>\n",
       "    </tr>\n",
       "    <tr>\n",
       "      <th>10</th>\n",
       "      <td>222</td>\n",
       "      <td>227.06</td>\n",
       "      <td>2.04</td>\n",
       "      <td>97.19</td>\n",
       "      <td>спящие, редкие покупки, средний чек</td>\n",
       "    </tr>\n",
       "    <tr>\n",
       "      <th>11</th>\n",
       "      <td>223</td>\n",
       "      <td>222.41</td>\n",
       "      <td>2.10</td>\n",
       "      <td>320.81</td>\n",
       "      <td>спящие, редкие покупки, высокий чек</td>\n",
       "    </tr>\n",
       "    <tr>\n",
       "      <th>12</th>\n",
       "      <td>233</td>\n",
       "      <td>188.00</td>\n",
       "      <td>9.00</td>\n",
       "      <td>1000.85</td>\n",
       "      <td>спящие, частые покупки, высокий чек</td>\n",
       "    </tr>\n",
       "    <tr>\n",
       "      <th>13</th>\n",
       "      <td>311</td>\n",
       "      <td>79.91</td>\n",
       "      <td>1.00</td>\n",
       "      <td>35.01</td>\n",
       "      <td>недавние, разовая покупка, низкий чек</td>\n",
       "    </tr>\n",
       "    <tr>\n",
       "      <th>14</th>\n",
       "      <td>312</td>\n",
       "      <td>81.27</td>\n",
       "      <td>1.00</td>\n",
       "      <td>90.61</td>\n",
       "      <td>недавние, разовая покупка, средний чек</td>\n",
       "    </tr>\n",
       "    <tr>\n",
       "      <th>15</th>\n",
       "      <td>313</td>\n",
       "      <td>82.68</td>\n",
       "      <td>1.00</td>\n",
       "      <td>305.59</td>\n",
       "      <td>недавние, разовая покупка, высокий чек</td>\n",
       "    </tr>\n",
       "    <tr>\n",
       "      <th>16</th>\n",
       "      <td>321</td>\n",
       "      <td>80.71</td>\n",
       "      <td>2.00</td>\n",
       "      <td>43.49</td>\n",
       "      <td>недавние, редкие покупки, низкий чек</td>\n",
       "    </tr>\n",
       "    <tr>\n",
       "      <th>17</th>\n",
       "      <td>322</td>\n",
       "      <td>81.44</td>\n",
       "      <td>2.05</td>\n",
       "      <td>96.11</td>\n",
       "      <td>недавние, редкие покупки, средний чек</td>\n",
       "    </tr>\n",
       "    <tr>\n",
       "      <th>18</th>\n",
       "      <td>323</td>\n",
       "      <td>80.22</td>\n",
       "      <td>2.19</td>\n",
       "      <td>357.67</td>\n",
       "      <td>недавние, редкие покупки, высокий чек</td>\n",
       "    </tr>\n",
       "    <tr>\n",
       "      <th>19</th>\n",
       "      <td>333</td>\n",
       "      <td>14.00</td>\n",
       "      <td>16.00</td>\n",
       "      <td>729.62</td>\n",
       "      <td>недавние, частые покупки, высокий чек</td>\n",
       "    </tr>\n",
       "  </tbody>\n",
       "</table>\n",
       "</div>"
      ],
      "text/plain": [
       "    RFM  recency  frequency  monetary                     cluster_description\n",
       "0   111   426.48       1.00     34.64     давние, разовая покупка, низкий чек\n",
       "1   112   424.17       1.00     87.61    давние, разовая покупка, средний чек\n",
       "2   113   425.19       1.00    312.56    давние, разовая покупка, высокий чек\n",
       "3   121   446.92       2.13     42.84      давние, редкие покупки, низкий чек\n",
       "4   122   409.32       2.03     96.42     давние, редкие покупки, средний чек\n",
       "5   123   407.00       2.11    358.66     давние, редкие покупки, высокий чек\n",
       "6   211   225.66       1.00     35.11     спящие, разовая покупка, низкий чек\n",
       "7   212   227.15       1.00     89.87    спящие, разовая покупка, средний чек\n",
       "8   213   226.07       1.00    282.61    спящие, разовая покупка, высокий чек\n",
       "9   221   223.72       2.02     43.82      спящие, редкие покупки, низкий чек\n",
       "10  222   227.06       2.04     97.19     спящие, редкие покупки, средний чек\n",
       "11  223   222.41       2.10    320.81     спящие, редкие покупки, высокий чек\n",
       "12  233   188.00       9.00   1000.85     спящие, частые покупки, высокий чек\n",
       "13  311    79.91       1.00     35.01   недавние, разовая покупка, низкий чек\n",
       "14  312    81.27       1.00     90.61  недавние, разовая покупка, средний чек\n",
       "15  313    82.68       1.00    305.59  недавние, разовая покупка, высокий чек\n",
       "16  321    80.71       2.00     43.49    недавние, редкие покупки, низкий чек\n",
       "17  322    81.44       2.05     96.11   недавние, редкие покупки, средний чек\n",
       "18  323    80.22       2.19    357.67   недавние, редкие покупки, высокий чек\n",
       "19  333    14.00      16.00    729.62   недавние, частые покупки, высокий чек"
      ]
     },
     "execution_count": 70,
     "metadata": {},
     "output_type": "execute_result"
    }
   ],
   "source": [
    "mean_rfm"
   ]
  }
 ],
 "metadata": {
  "kernelspec": {
   "display_name": "Python 3",
   "language": "python",
   "name": "python3"
  },
  "language_info": {
   "codemirror_mode": {
    "name": "ipython",
    "version": 3
   },
   "file_extension": ".py",
   "mimetype": "text/x-python",
   "name": "python",
   "nbconvert_exporter": "python",
   "pygments_lexer": "ipython3",
   "version": "3.7.3"
  }
 },
 "nbformat": 4,
 "nbformat_minor": 4
}
