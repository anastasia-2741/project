{
 "cells": [
  {
   "cell_type": "markdown",
   "metadata": {},
   "source": [
    " # Проект: вариант 4"
   ]
  },
  {
   "cell_type": "markdown",
   "metadata": {},
   "source": [
    "# Задание 1"
   ]
  },
  {
   "cell_type": "markdown",
   "metadata": {},
   "source": [
    "**Условия:** представьте, что вы аналитик в компании, которая разрабатывает приложение для обработки и оформления фотографий в формате Stories (например, для дальнейшего экспорта в Instagram Stories). Был проведен A/B тест: тестовой группе предлагалась новая модель оплаты коллекций шаблонов, контрольной – старая механика. Ваша основная задача: проанализировать итоги эксперимента и решить, нужно ли выкатывать новую модель на остальных пользователей."
   ]
  },
  {
   "cell_type": "markdown",
   "metadata": {},
   "source": [
    "**Данные:**\n",
    "- active_users – информация о пользователях, которые посещали приложение во время эксперимента. \n",
    "- groups – разбивка пользователей на контрольную (А) и тестовую (В) группы. \n",
    "- purchases – данные о транзакциях (оплатах) пользователей приложения во время эксперимента "
   ]
  },
  {
   "cell_type": "markdown",
   "metadata": {},
   "source": [
    "Для анализов результатов эксперимента, учитывая имеющиеся данные, были выбраны следующие **метрики:**\n",
    "- показатели дохода, такие как **средний чек** (в данном случае, средний чек = ARPPU), **ARPU** (конверсия * ARPPU), чтобы увидеть повлияло ли изменение на выручку \n",
    "- **конверсия в покупку (CR)**, чтобы посмотреть повлияло ли изменение на частоту покупок"
   ]
  },
  {
   "cell_type": "code",
   "execution_count": 140,
   "metadata": {},
   "outputs": [],
   "source": [
    "# импортируем библиотеки\n",
    "import pandas as pd\n",
    "import numpy as np\n",
    "import seaborn as sns\n",
    "from scipy import stats\n",
    "from statsmodels.stats import proportion as proportion, power as smp\n",
    "from scipy.stats import norm, mannwhitneyu, shapiro\n",
    "import matplotlib.pyplot as plt"
   ]
  },
  {
   "cell_type": "markdown",
   "metadata": {},
   "source": [
    "## Данные"
   ]
  },
  {
   "cell_type": "code",
   "execution_count": 138,
   "metadata": {},
   "outputs": [],
   "source": [
    "df_groups = pd.read_csv('/mnt/HC_Volume_18315164/home-jupyter/jupyter-a-prohorova-18/final_project1/Проект_4_groups.csv')"
   ]
  },
  {
   "cell_type": "code",
   "execution_count": 135,
   "metadata": {},
   "outputs": [],
   "source": [
    "df_active_users = pd.read_csv('/mnt/HC_Volume_18315164/home-jupyter/jupyter-a-prohorova-18/final_project1/Проект_4_active_users.csv')"
   ]
  },
  {
   "cell_type": "code",
   "execution_count": 134,
   "metadata": {},
   "outputs": [],
   "source": [
    "df_purchases = pd.read_csv('/mnt/HC_Volume_18315164/home-jupyter/jupyter-a-prohorova-18/final_project1/Проект_4_purchases.csv')"
   ]
  },
  {
   "cell_type": "code",
   "execution_count": 139,
   "metadata": {},
   "outputs": [
    {
     "data": {
      "text/html": [
       "<div>\n",
       "<style scoped>\n",
       "    .dataframe tbody tr th:only-of-type {\n",
       "        vertical-align: middle;\n",
       "    }\n",
       "\n",
       "    .dataframe tbody tr th {\n",
       "        vertical-align: top;\n",
       "    }\n",
       "\n",
       "    .dataframe thead th {\n",
       "        text-align: right;\n",
       "    }\n",
       "</style>\n",
       "<table border=\"1\" class=\"dataframe\">\n",
       "  <thead>\n",
       "    <tr style=\"text-align: right;\">\n",
       "      <th></th>\n",
       "      <th>user_id</th>\n",
       "      <th>group</th>\n",
       "    </tr>\n",
       "  </thead>\n",
       "  <tbody>\n",
       "    <tr>\n",
       "      <th>0</th>\n",
       "      <td>9149</td>\n",
       "      <td>B</td>\n",
       "    </tr>\n",
       "    <tr>\n",
       "      <th>1</th>\n",
       "      <td>9150</td>\n",
       "      <td>B</td>\n",
       "    </tr>\n",
       "  </tbody>\n",
       "</table>\n",
       "</div>"
      ],
      "text/plain": [
       "   user_id group\n",
       "0     9149     B\n",
       "1     9150     B"
      ]
     },
     "execution_count": 139,
     "metadata": {},
     "output_type": "execute_result"
    }
   ],
   "source": [
    "df_groups.head(2)"
   ]
  },
  {
   "cell_type": "code",
   "execution_count": 6,
   "metadata": {},
   "outputs": [
    {
     "data": {
      "text/plain": [
       "(74576, 2)"
      ]
     },
     "execution_count": 6,
     "metadata": {},
     "output_type": "execute_result"
    }
   ],
   "source": [
    "df_groups.shape"
   ]
  },
  {
   "cell_type": "code",
   "execution_count": 7,
   "metadata": {},
   "outputs": [
    {
     "data": {
      "text/plain": [
       "user_id    74576\n",
       "group          2\n",
       "dtype: int64"
      ]
     },
     "execution_count": 7,
     "metadata": {},
     "output_type": "execute_result"
    }
   ],
   "source": [
    "df_groups.nunique()"
   ]
  },
  {
   "cell_type": "code",
   "execution_count": 8,
   "metadata": {},
   "outputs": [
    {
     "data": {
      "text/plain": [
       "user_id    0\n",
       "group      0\n",
       "dtype: int64"
      ]
     },
     "execution_count": 8,
     "metadata": {},
     "output_type": "execute_result"
    }
   ],
   "source": [
    "df_groups.isna().sum()"
   ]
  },
  {
   "cell_type": "code",
   "execution_count": 11,
   "metadata": {},
   "outputs": [
    {
     "data": {
      "text/html": [
       "<div>\n",
       "<style scoped>\n",
       "    .dataframe tbody tr th:only-of-type {\n",
       "        vertical-align: middle;\n",
       "    }\n",
       "\n",
       "    .dataframe tbody tr th {\n",
       "        vertical-align: top;\n",
       "    }\n",
       "\n",
       "    .dataframe thead th {\n",
       "        text-align: right;\n",
       "    }\n",
       "</style>\n",
       "<table border=\"1\" class=\"dataframe\">\n",
       "  <thead>\n",
       "    <tr style=\"text-align: right;\">\n",
       "      <th></th>\n",
       "      <th>user_id</th>\n",
       "      <th>country</th>\n",
       "      <th>platform</th>\n",
       "      <th>sex</th>\n",
       "    </tr>\n",
       "  </thead>\n",
       "  <tbody>\n",
       "    <tr>\n",
       "      <th>0</th>\n",
       "      <td>8029</td>\n",
       "      <td>Russia</td>\n",
       "      <td>ios</td>\n",
       "      <td>male</td>\n",
       "    </tr>\n",
       "    <tr>\n",
       "      <th>1</th>\n",
       "      <td>1735</td>\n",
       "      <td>Sweden</td>\n",
       "      <td>ios</td>\n",
       "      <td>male</td>\n",
       "    </tr>\n",
       "  </tbody>\n",
       "</table>\n",
       "</div>"
      ],
      "text/plain": [
       "   user_id country platform   sex\n",
       "0     8029  Russia      ios  male\n",
       "1     1735  Sweden      ios  male"
      ]
     },
     "execution_count": 11,
     "metadata": {},
     "output_type": "execute_result"
    }
   ],
   "source": [
    "df_active_users.head(2)"
   ]
  },
  {
   "cell_type": "code",
   "execution_count": 10,
   "metadata": {},
   "outputs": [
    {
     "data": {
      "text/plain": [
       "(8341, 4)"
      ]
     },
     "execution_count": 10,
     "metadata": {},
     "output_type": "execute_result"
    }
   ],
   "source": [
    "df_active_users.shape"
   ]
  },
  {
   "cell_type": "code",
   "execution_count": 13,
   "metadata": {},
   "outputs": [
    {
     "data": {
      "text/plain": [
       "user_id     8341\n",
       "country        2\n",
       "platform       2\n",
       "sex            2\n",
       "dtype: int64"
      ]
     },
     "execution_count": 13,
     "metadata": {},
     "output_type": "execute_result"
    }
   ],
   "source": [
    "df_active_users.nunique()"
   ]
  },
  {
   "cell_type": "code",
   "execution_count": 14,
   "metadata": {
    "scrolled": true
   },
   "outputs": [
    {
     "data": {
      "text/plain": [
       "user_id     0\n",
       "country     0\n",
       "platform    0\n",
       "sex         0\n",
       "dtype: int64"
      ]
     },
     "execution_count": 14,
     "metadata": {},
     "output_type": "execute_result"
    }
   ],
   "source": [
    "df_active_users.isna().sum()"
   ]
  },
  {
   "cell_type": "code",
   "execution_count": 15,
   "metadata": {},
   "outputs": [
    {
     "data": {
      "text/html": [
       "<div>\n",
       "<style scoped>\n",
       "    .dataframe tbody tr th:only-of-type {\n",
       "        vertical-align: middle;\n",
       "    }\n",
       "\n",
       "    .dataframe tbody tr th {\n",
       "        vertical-align: top;\n",
       "    }\n",
       "\n",
       "    .dataframe thead th {\n",
       "        text-align: right;\n",
       "    }\n",
       "</style>\n",
       "<table border=\"1\" class=\"dataframe\">\n",
       "  <thead>\n",
       "    <tr style=\"text-align: right;\">\n",
       "      <th></th>\n",
       "      <th>user_id</th>\n",
       "      <th>revenue</th>\n",
       "    </tr>\n",
       "  </thead>\n",
       "  <tbody>\n",
       "    <tr>\n",
       "      <th>0</th>\n",
       "      <td>4412</td>\n",
       "      <td>1000.0</td>\n",
       "    </tr>\n",
       "    <tr>\n",
       "      <th>1</th>\n",
       "      <td>9000</td>\n",
       "      <td>701.0</td>\n",
       "    </tr>\n",
       "  </tbody>\n",
       "</table>\n",
       "</div>"
      ],
      "text/plain": [
       "   user_id  revenue\n",
       "0     4412   1000.0\n",
       "1     9000    701.0"
      ]
     },
     "execution_count": 15,
     "metadata": {},
     "output_type": "execute_result"
    }
   ],
   "source": [
    "df_purchases.head(2)"
   ]
  },
  {
   "cell_type": "code",
   "execution_count": 16,
   "metadata": {},
   "outputs": [
    {
     "data": {
      "text/plain": [
       "(541, 2)"
      ]
     },
     "execution_count": 16,
     "metadata": {},
     "output_type": "execute_result"
    }
   ],
   "source": [
    "df_purchases.shape"
   ]
  },
  {
   "cell_type": "code",
   "execution_count": 17,
   "metadata": {},
   "outputs": [
    {
     "data": {
      "text/plain": [
       "user_id    541\n",
       "revenue     98\n",
       "dtype: int64"
      ]
     },
     "execution_count": 17,
     "metadata": {},
     "output_type": "execute_result"
    }
   ],
   "source": [
    "df_purchases.nunique()"
   ]
  },
  {
   "cell_type": "code",
   "execution_count": 18,
   "metadata": {},
   "outputs": [
    {
     "data": {
      "text/plain": [
       "user_id    0\n",
       "revenue    0\n",
       "dtype: int64"
      ]
     },
     "execution_count": 18,
     "metadata": {},
     "output_type": "execute_result"
    }
   ],
   "source": [
    "df_purchases.isna().sum()"
   ]
  },
  {
   "cell_type": "markdown",
   "metadata": {},
   "source": [
    "Ознакомившись с данными, получены следующие результаты: в датафреймах нет пропущенных значений и дубликатов. В приложении 74576 уникальных пользователей, на период эксперимента в приложении зашли 8341 пользователь, совершили оплату (транзакцию) 541 пользователь.\n"
   ]
  },
  {
   "cell_type": "markdown",
   "metadata": {},
   "source": [
    "--------------------------------------"
   ]
  },
  {
   "cell_type": "markdown",
   "metadata": {},
   "source": [
    "Проверим совпадают ли id пользователей в датафреймах df_groups(все пользователи), df_active_users(активные на период эксперимента пользователи), df_purchases(оплаты во время эксперимента)"
   ]
  },
  {
   "cell_type": "code",
   "execution_count": 19,
   "metadata": {},
   "outputs": [
    {
     "data": {
      "text/plain": [
       "(8341, 5)"
      ]
     },
     "execution_count": 19,
     "metadata": {},
     "output_type": "execute_result"
    }
   ],
   "source": [
    "# мерджим датафреймы df_groups, df_active_users\n",
    "df_active_users.merge(df_groups, how='inner', on=['user_id']).shape"
   ]
  },
  {
   "cell_type": "code",
   "execution_count": 20,
   "metadata": {},
   "outputs": [
    {
     "data": {
      "text/plain": [
       "(541, 3)"
      ]
     },
     "execution_count": 20,
     "metadata": {},
     "output_type": "execute_result"
    }
   ],
   "source": [
    "# мерджим датафреймы df_groups, df_purchases\n",
    "df_purchases.merge(df_groups, how='inner', on=['user_id']).shape"
   ]
  },
  {
   "cell_type": "code",
   "execution_count": 21,
   "metadata": {},
   "outputs": [
    {
     "data": {
      "text/plain": [
       "(392, 5)"
      ]
     },
     "execution_count": 21,
     "metadata": {},
     "output_type": "execute_result"
    }
   ],
   "source": [
    "# мерджим датафреймы df_purchases, df_active_users\n",
    "df_active_users.merge(df_purchases, how='inner', on=['user_id']).shape"
   ]
  },
  {
   "cell_type": "markdown",
   "metadata": {},
   "source": [
    "Размеры датафреймов после объединения df_groups с df_active_users и df_groups с df_purchases не изменились.\n",
    "\n",
    "После объединения датафреймов об активных пользователях и оплатах на период эксперимента количество уникальных пользователей сократилось с 541 до 392. Таким образом, нет информации об активности (посещении приложения) у 149 пользователей, но оплаты ими были совершены на момент эксперимента. Можно предположить, что у этих пользователей деньги были списаны автоматически (например, подписка) или была задержка в списании денег. Сохраним пользователей в отдельный датафрейм df_no_active_users:\n"
   ]
  },
  {
   "cell_type": "code",
   "execution_count": 22,
   "metadata": {},
   "outputs": [],
   "source": [
    "# мерджим df_active_users, df_purchases\n",
    "# заменяем пропущенные значения на 0 \n",
    "# выбираем строки с нулевыми значениями\n",
    "# удаляем  колонки\n",
    "df_no_active_users = df_active_users.merge(df_purchases, how='right', on=['user_id'])\\\n",
    "    .fillna(0)\\\n",
    "    .query('sex == 0')\\\n",
    "    .drop(['country', 'platform', 'sex'], axis=1)"
   ]
  },
  {
   "cell_type": "code",
   "execution_count": 23,
   "metadata": {},
   "outputs": [],
   "source": [
    "# мерджим df_no_active_users, df_groups\n",
    "df_no_active_users = df_no_active_users.merge(df_groups, how='inner', on=['user_id'])"
   ]
  },
  {
   "cell_type": "code",
   "execution_count": 24,
   "metadata": {
    "scrolled": true
   },
   "outputs": [
    {
     "data": {
      "text/html": [
       "<div>\n",
       "<style scoped>\n",
       "    .dataframe tbody tr th:only-of-type {\n",
       "        vertical-align: middle;\n",
       "    }\n",
       "\n",
       "    .dataframe tbody tr th {\n",
       "        vertical-align: top;\n",
       "    }\n",
       "\n",
       "    .dataframe thead th {\n",
       "        text-align: right;\n",
       "    }\n",
       "</style>\n",
       "<table border=\"1\" class=\"dataframe\">\n",
       "  <thead>\n",
       "    <tr style=\"text-align: right;\">\n",
       "      <th></th>\n",
       "      <th>user_id</th>\n",
       "      <th>revenue</th>\n",
       "      <th>group</th>\n",
       "    </tr>\n",
       "  </thead>\n",
       "  <tbody>\n",
       "    <tr>\n",
       "      <th>0</th>\n",
       "      <td>9000</td>\n",
       "      <td>701.0</td>\n",
       "      <td>B</td>\n",
       "    </tr>\n",
       "    <tr>\n",
       "      <th>1</th>\n",
       "      <td>9001</td>\n",
       "      <td>700.0</td>\n",
       "      <td>B</td>\n",
       "    </tr>\n",
       "  </tbody>\n",
       "</table>\n",
       "</div>"
      ],
      "text/plain": [
       "   user_id  revenue group\n",
       "0     9000    701.0     B\n",
       "1     9001    700.0     B"
      ]
     },
     "execution_count": 24,
     "metadata": {},
     "output_type": "execute_result"
    }
   ],
   "source": [
    "df_no_active_users.head(2)"
   ]
  },
  {
   "cell_type": "markdown",
   "metadata": {},
   "source": [
    "Подготовим датафреймы для дальнейшего анализа, объединив активных пользователей, данные о покупках и группах (без учета 149 пользователей, указанных выше):"
   ]
  },
  {
   "cell_type": "code",
   "execution_count": 25,
   "metadata": {},
   "outputs": [],
   "source": [
    "# мерджим df_active_users, df_groups  и df_active_users, df_purchases\n",
    "# заменяем пропущенные значения на 0\n",
    "df_active_users = df_active_users.merge(df_groups, how='inner', on=['user_id'])\n",
    "df_active_users = df_active_users.merge(df_purchases, how='left', on=['user_id']).fillna(0)"
   ]
  },
  {
   "cell_type": "code",
   "execution_count": 26,
   "metadata": {},
   "outputs": [],
   "source": [
    "df_purchases_all = df_purchases.merge(df_groups, how='inner', on=['user_id'])"
   ]
  },
  {
   "cell_type": "code",
   "execution_count": 27,
   "metadata": {},
   "outputs": [],
   "source": [
    "df_purchases = df_active_users.merge(df_purchases, how='inner', on=['user_id'])\\\n",
    "    .drop(['revenue_y'], axis=1)\\\n",
    "    .rename(columns={'revenue_x': 'revenue'})"
   ]
  },
  {
   "cell_type": "code",
   "execution_count": 28,
   "metadata": {},
   "outputs": [
    {
     "data": {
      "text/html": [
       "<div>\n",
       "<style scoped>\n",
       "    .dataframe tbody tr th:only-of-type {\n",
       "        vertical-align: middle;\n",
       "    }\n",
       "\n",
       "    .dataframe tbody tr th {\n",
       "        vertical-align: top;\n",
       "    }\n",
       "\n",
       "    .dataframe thead th {\n",
       "        text-align: right;\n",
       "    }\n",
       "</style>\n",
       "<table border=\"1\" class=\"dataframe\">\n",
       "  <thead>\n",
       "    <tr style=\"text-align: right;\">\n",
       "      <th></th>\n",
       "      <th>user_id</th>\n",
       "      <th>country</th>\n",
       "      <th>platform</th>\n",
       "      <th>sex</th>\n",
       "      <th>group</th>\n",
       "      <th>revenue</th>\n",
       "    </tr>\n",
       "  </thead>\n",
       "  <tbody>\n",
       "    <tr>\n",
       "      <th>0</th>\n",
       "      <td>8029</td>\n",
       "      <td>Russia</td>\n",
       "      <td>ios</td>\n",
       "      <td>male</td>\n",
       "      <td>B</td>\n",
       "      <td>0.0</td>\n",
       "    </tr>\n",
       "    <tr>\n",
       "      <th>1</th>\n",
       "      <td>1735</td>\n",
       "      <td>Sweden</td>\n",
       "      <td>ios</td>\n",
       "      <td>male</td>\n",
       "      <td>B</td>\n",
       "      <td>0.0</td>\n",
       "    </tr>\n",
       "  </tbody>\n",
       "</table>\n",
       "</div>"
      ],
      "text/plain": [
       "   user_id country platform   sex group  revenue\n",
       "0     8029  Russia      ios  male     B      0.0\n",
       "1     1735  Sweden      ios  male     B      0.0"
      ]
     },
     "execution_count": 28,
     "metadata": {},
     "output_type": "execute_result"
    }
   ],
   "source": [
    "df_active_users.head(2)"
   ]
  },
  {
   "cell_type": "code",
   "execution_count": 29,
   "metadata": {},
   "outputs": [
    {
     "data": {
      "text/html": [
       "<div>\n",
       "<style scoped>\n",
       "    .dataframe tbody tr th:only-of-type {\n",
       "        vertical-align: middle;\n",
       "    }\n",
       "\n",
       "    .dataframe tbody tr th {\n",
       "        vertical-align: top;\n",
       "    }\n",
       "\n",
       "    .dataframe thead th {\n",
       "        text-align: right;\n",
       "    }\n",
       "</style>\n",
       "<table border=\"1\" class=\"dataframe\">\n",
       "  <thead>\n",
       "    <tr style=\"text-align: right;\">\n",
       "      <th></th>\n",
       "      <th>user_id</th>\n",
       "      <th>country</th>\n",
       "      <th>platform</th>\n",
       "      <th>sex</th>\n",
       "      <th>group</th>\n",
       "      <th>revenue</th>\n",
       "    </tr>\n",
       "  </thead>\n",
       "  <tbody>\n",
       "    <tr>\n",
       "      <th>0</th>\n",
       "      <td>1202</td>\n",
       "      <td>Sweden</td>\n",
       "      <td>android</td>\n",
       "      <td>male</td>\n",
       "      <td>A</td>\n",
       "      <td>302.0</td>\n",
       "    </tr>\n",
       "    <tr>\n",
       "      <th>1</th>\n",
       "      <td>6284</td>\n",
       "      <td>Russia</td>\n",
       "      <td>android</td>\n",
       "      <td>female</td>\n",
       "      <td>B</td>\n",
       "      <td>208.0</td>\n",
       "    </tr>\n",
       "  </tbody>\n",
       "</table>\n",
       "</div>"
      ],
      "text/plain": [
       "   user_id country platform     sex group  revenue\n",
       "0     1202  Sweden  android    male     A    302.0\n",
       "1     6284  Russia  android  female     B    208.0"
      ]
     },
     "execution_count": 29,
     "metadata": {},
     "output_type": "execute_result"
    }
   ],
   "source": [
    "df_purchases.head(2)"
   ]
  },
  {
   "cell_type": "code",
   "execution_count": 30,
   "metadata": {},
   "outputs": [
    {
     "data": {
      "text/html": [
       "<div>\n",
       "<style scoped>\n",
       "    .dataframe tbody tr th:only-of-type {\n",
       "        vertical-align: middle;\n",
       "    }\n",
       "\n",
       "    .dataframe tbody tr th {\n",
       "        vertical-align: top;\n",
       "    }\n",
       "\n",
       "    .dataframe thead th {\n",
       "        text-align: right;\n",
       "    }\n",
       "</style>\n",
       "<table border=\"1\" class=\"dataframe\">\n",
       "  <thead>\n",
       "    <tr style=\"text-align: right;\">\n",
       "      <th></th>\n",
       "      <th>user_id</th>\n",
       "      <th>revenue</th>\n",
       "      <th>group</th>\n",
       "    </tr>\n",
       "  </thead>\n",
       "  <tbody>\n",
       "    <tr>\n",
       "      <th>0</th>\n",
       "      <td>4412</td>\n",
       "      <td>1000.0</td>\n",
       "      <td>A</td>\n",
       "    </tr>\n",
       "    <tr>\n",
       "      <th>1</th>\n",
       "      <td>9000</td>\n",
       "      <td>701.0</td>\n",
       "      <td>B</td>\n",
       "    </tr>\n",
       "  </tbody>\n",
       "</table>\n",
       "</div>"
      ],
      "text/plain": [
       "   user_id  revenue group\n",
       "0     4412   1000.0     A\n",
       "1     9000    701.0     B"
      ]
     },
     "execution_count": 30,
     "metadata": {},
     "output_type": "execute_result"
    }
   ],
   "source": [
    "df_purchases_all.head(2)"
   ]
  },
  {
   "cell_type": "markdown",
   "metadata": {},
   "source": [
    "-------------------------------------------------------------------"
   ]
  },
  {
   "cell_type": "markdown",
   "metadata": {},
   "source": [
    "Посмотрим на разделение пользователей на тестовую(B) и контрольную(A) группы. Ожидается, что количество пользователей в группах A и B будут равны, и выборки сбалансированы по сегментам (стране, полу, платформе)."
   ]
  },
  {
   "cell_type": "code",
   "execution_count": 31,
   "metadata": {},
   "outputs": [
    {
     "data": {
      "text/plain": [
       "(14693, 2)"
      ]
     },
     "execution_count": 31,
     "metadata": {},
     "output_type": "execute_result"
    }
   ],
   "source": [
    "df_groups[df_groups['group'] == \"A\"].shape"
   ]
  },
  {
   "cell_type": "code",
   "execution_count": 32,
   "metadata": {},
   "outputs": [
    {
     "data": {
      "text/plain": [
       "(59883, 2)"
      ]
     },
     "execution_count": 32,
     "metadata": {},
     "output_type": "execute_result"
    }
   ],
   "source": [
    "df_groups[df_groups['group'] == \"B\"].shape"
   ]
  },
  {
   "cell_type": "code",
   "execution_count": 33,
   "metadata": {},
   "outputs": [
    {
     "data": {
      "text/plain": [
       "(1538, 6)"
      ]
     },
     "execution_count": 33,
     "metadata": {},
     "output_type": "execute_result"
    }
   ],
   "source": [
    "df_active_users[df_active_users['group'] == \"A\"].shape"
   ]
  },
  {
   "cell_type": "code",
   "execution_count": 34,
   "metadata": {},
   "outputs": [
    {
     "data": {
      "text/plain": [
       "(6803, 6)"
      ]
     },
     "execution_count": 34,
     "metadata": {},
     "output_type": "execute_result"
    }
   ],
   "source": [
    "df_active_users[df_active_users['group'] == \"B\"].shape"
   ]
  },
  {
   "cell_type": "markdown",
   "metadata": {},
   "source": [
    "В данном случае количество пользователей в тестовой группе больше в ≈4 раза. Проверим сбалансированность выборок:"
   ]
  },
  {
   "cell_type": "code",
   "execution_count": 35,
   "metadata": {},
   "outputs": [],
   "source": [
    "# объявим функцию для построения диаграмм по группам и сегментам\n",
    "def viz_segment(df, segments, group):\n",
    "    # df - датафрейм\n",
    "    # segments - сегменты (категории) пользователей\n",
    "    # group - название столбца с группами (A/B)    \n",
    "    for segment in segments:\n",
    "        data = df.groupby([group, segment])\\\n",
    "            .agg({'user_id': 'count'}).reset_index()        \n",
    "        sns.catplot(x=group, y='user_id', hue=segment, \n",
    "                    data=data, kind='bar',\n",
    "                    height=3, aspect=1.5, \n",
    "                    palette=['skyblue', 'lightslategray'])"
   ]
  },
  {
   "cell_type": "code",
   "execution_count": 36,
   "metadata": {},
   "outputs": [],
   "source": [
    "segments = ['country', 'platform', 'sex']"
   ]
  },
  {
   "cell_type": "code",
   "execution_count": 37,
   "metadata": {},
   "outputs": [
    {
     "data": {
      "image/png": "[encoded data removed]",
      "text/plain": [
       "<Figure size 399.375x216 with 1 Axes>"
      ]
     },
     "metadata": {
      "needs_background": "light"
     },
     "output_type": "display_data"
    },
    {
     "data": {
      "image/png": "[encoded data removed]",
      "text/plain": [
       "<Figure size 398x216 with 1 Axes>"
      ]
     },
     "metadata": {
      "needs_background": "light"
     },
     "output_type": "display_data"
    },
    {
     "data": {
      "image/png": "[encoded data removed]",
      "text/plain": [
       "<Figure size 394.5x216 with 1 Axes>"
      ]
     },
     "metadata": {
      "needs_background": "light"
     },
     "output_type": "display_data"
    }
   ],
   "source": [
    "viz_segment(df_active_users, segments, 'group')"
   ]
  },
  {
   "cell_type": "markdown",
   "metadata": {},
   "source": [
    "Как видно из графиков выше, выборки (из датафрейма df_active_users) несбалансированы по странам и платформам, поэтому результаты эксперимента могут объясняться тем, что нарушена репрезентативность. "
   ]
  },
  {
   "cell_type": "markdown",
   "metadata": {},
   "source": [
    "--------------------------------------"
   ]
  },
  {
   "cell_type": "markdown",
   "metadata": {},
   "source": [
    "Посмотрим на распределение данных, проверим их на нормальность распределения с помощью теста Шапиро и сравним распределения с помощью критерия Манна-Уитни (если распределения отличаются от нормального):"
   ]
  },
  {
   "cell_type": "markdown",
   "metadata": {},
   "source": [
    "Посмотрим на пользователей, которые не были активны на время эксперимента, но совершили оплаты:"
   ]
  },
  {
   "cell_type": "code",
   "execution_count": 38,
   "metadata": {},
   "outputs": [
    {
     "data": {
      "image/png": "[encoded data removed]",
      "text/plain": [
       "<Figure size 432x288 with 1 Axes>"
      ]
     },
     "metadata": {
      "needs_background": "light"
     },
     "output_type": "display_data"
    }
   ],
   "source": [
    "sns.histplot(df_no_active_users[df_no_active_users['group'] == 'A'].revenue, color='lightslategray')\n",
    "sns.histplot(df_no_active_users[df_no_active_users['group'] == 'B'].revenue, color='skyblue')\n",
    "sns.despine()"
   ]
  },
  {
   "cell_type": "code",
   "execution_count": 126,
   "metadata": {},
   "outputs": [
    {
     "data": {
      "text/plain": [
       "ShapiroResult(statistic=0.8621084094047546, pvalue=1.7290871512365413e-10)"
      ]
     },
     "execution_count": 126,
     "metadata": {},
     "output_type": "execute_result"
    }
   ],
   "source": [
    "shapiro(df_no_active_users.revenue)"
   ]
  },
  {
   "cell_type": "code",
   "execution_count": 40,
   "metadata": {},
   "outputs": [
    {
     "data": {
      "text/plain": [
       "MannwhitneyuResult(statistic=1536.5, pvalue=0.32858504025883084)"
      ]
     },
     "execution_count": 40,
     "metadata": {},
     "output_type": "execute_result"
    }
   ],
   "source": [
    "mannwhitneyu(df_no_active_users[df_no_active_users['group'] == 'A'].revenue, df_no_active_users[df_no_active_users['group'] == 'B'].revenue)"
   ]
  },
  {
   "cell_type": "markdown",
   "metadata": {},
   "source": [
    "В результате теста Шапиро, pvalue < 0.05, следовательно, распределение отличается от нормального. \n",
    "\n",
    "Непараметрический критерий Манна-Уитни дал значение pvalue = 0.3, что больше 0.05, следовательно, мы не можем отклонить нулевую гипотезу о равенстве распределений. Учитывая равенство распределений, и что пользователи не заходили в приложение, можно предположить, что тестовая группа не видела обновлений, и поэтому в дальнеших расчетах эти данные учитываться не будут. "
   ]
  },
  {
   "cell_type": "markdown",
   "metadata": {},
   "source": [
    "Посмотрим на данные о покупках:"
   ]
  },
  {
   "cell_type": "code",
   "execution_count": 41,
   "metadata": {},
   "outputs": [
    {
     "data": {
      "image/png": "[encoded data removed]",
      "text/plain": [
       "<Figure size 432x288 with 1 Axes>"
      ]
     },
     "metadata": {
      "needs_background": "light"
     },
     "output_type": "display_data"
    }
   ],
   "source": [
    "sns.histplot(df_purchases[df_purchases['group'] == 'A'].revenue, color='black')\n",
    "sns.histplot(df_purchases[df_purchases['group'] == 'B'].revenue, color='skyblue')\n",
    "sns.despine()"
   ]
  },
  {
   "cell_type": "code",
   "execution_count": 42,
   "metadata": {},
   "outputs": [
    {
     "data": {
      "text/plain": [
       "ShapiroResult(statistic=0.8718748092651367, pvalue=1.768322559841976e-17)"
      ]
     },
     "execution_count": 42,
     "metadata": {},
     "output_type": "execute_result"
    }
   ],
   "source": [
    "shapiro(df_purchases.revenue)"
   ]
  },
  {
   "cell_type": "markdown",
   "metadata": {},
   "source": [
    "В результате теста, значение pvalue < 0.05, следовательно, распределение отличается от нормального. Проверим распределение данных в тестовой и контрольной группах:\n",
    "    "
   ]
  },
  {
   "cell_type": "code",
   "execution_count": 43,
   "metadata": {},
   "outputs": [
    {
     "data": {
      "text/plain": [
       "ShapiroResult(statistic=0.7358548641204834, pvalue=1.5417730980793465e-10)"
      ]
     },
     "execution_count": 43,
     "metadata": {},
     "output_type": "execute_result"
    }
   ],
   "source": [
    "shapiro(df_purchases[df_purchases['group'] == 'A'].revenue)"
   ]
  },
  {
   "cell_type": "code",
   "execution_count": 44,
   "metadata": {},
   "outputs": [
    {
     "data": {
      "text/plain": [
       "ShapiroResult(statistic=0.8552882671356201, pvalue=1.665431681028873e-16)"
      ]
     },
     "execution_count": 44,
     "metadata": {},
     "output_type": "execute_result"
    }
   ],
   "source": [
    "shapiro(df_purchases[df_purchases['group'] == 'B'].revenue)"
   ]
  },
  {
   "cell_type": "markdown",
   "metadata": {},
   "source": [
    "В результате, значение pvalue < 0.05 как в тестовой, так и в контрольной группах, распределение отличается от нормального. \n",
    "Проверим гомогенность дисперсий выборок с помощью критерия Левена:"
   ]
  },
  {
   "cell_type": "code",
   "execution_count": 45,
   "metadata": {},
   "outputs": [
    {
     "data": {
      "text/plain": [
       "LeveneResult(statistic=3.07680546419023, pvalue=0.08020177652122025)"
      ]
     },
     "execution_count": 45,
     "metadata": {},
     "output_type": "execute_result"
    }
   ],
   "source": [
    "stats.levene(df_purchases[df_purchases['group'] == 'A'].revenue, df_purchases[df_purchases['group'] == 'B'].revenue)"
   ]
  },
  {
   "cell_type": "markdown",
   "metadata": {},
   "source": [
    "В результате теста Левена pvalue = 0.08, что больше 0.05, следовательно, мы не можем отклонить нулевую гипотезу о том, что дисперсии равны."
   ]
  },
  {
   "cell_type": "markdown",
   "metadata": {},
   "source": [
    "Воспользуемся непараметрическим критерием Манна-Уитни, чтобы сравнить распределение выборок:"
   ]
  },
  {
   "cell_type": "code",
   "execution_count": 46,
   "metadata": {},
   "outputs": [
    {
     "data": {
      "text/plain": [
       "MannwhitneyuResult(statistic=8961.0, pvalue=0.00023939080114586078)"
      ]
     },
     "execution_count": 46,
     "metadata": {},
     "output_type": "execute_result"
    }
   ],
   "source": [
    "mannwhitneyu(df_purchases[df_purchases['group'] == 'A'].revenue, df_purchases[df_purchases['group'] == 'B'].revenue)"
   ]
  },
  {
   "cell_type": "markdown",
   "metadata": {},
   "source": [
    "В результате, pvalue < 0.05, следовательно, мы можем отклонить нулевую гипотезу о равенстве распределений. "
   ]
  },
  {
   "cell_type": "markdown",
   "metadata": {},
   "source": [
    "## Расчет метрик и анализ результатов"
   ]
  },
  {
   "cell_type": "markdown",
   "metadata": {},
   "source": [
    "### Конверсия в покупку (CR)"
   ]
  },
  {
   "cell_type": "markdown",
   "metadata": {},
   "source": [
    "***Гипотеза*** - изменение модели оплаты повлияло на конверсию.\n",
    "\n",
    "Н0 - статистически значимой разницы в конверсии нет"
   ]
  },
  {
   "cell_type": "code",
   "execution_count": 47,
   "metadata": {},
   "outputs": [],
   "source": [
    "# создадим колонку payment, где 0 - оплаты нет, 1 - оплата есть\n",
    "df_active_users['payment'] = df_active_users.revenue.apply(lambda x: 0 if x == 0 else 1)"
   ]
  },
  {
   "cell_type": "code",
   "execution_count": 48,
   "metadata": {
    "scrolled": true
   },
   "outputs": [
    {
     "data": {
      "text/html": [
       "<div>\n",
       "<style scoped>\n",
       "    .dataframe tbody tr th:only-of-type {\n",
       "        vertical-align: middle;\n",
       "    }\n",
       "\n",
       "    .dataframe tbody tr th {\n",
       "        vertical-align: top;\n",
       "    }\n",
       "\n",
       "    .dataframe thead th {\n",
       "        text-align: right;\n",
       "    }\n",
       "</style>\n",
       "<table border=\"1\" class=\"dataframe\">\n",
       "  <thead>\n",
       "    <tr style=\"text-align: right;\">\n",
       "      <th></th>\n",
       "      <th>user_id</th>\n",
       "      <th>country</th>\n",
       "      <th>platform</th>\n",
       "      <th>sex</th>\n",
       "      <th>group</th>\n",
       "      <th>revenue</th>\n",
       "      <th>payment</th>\n",
       "    </tr>\n",
       "  </thead>\n",
       "  <tbody>\n",
       "    <tr>\n",
       "      <th>0</th>\n",
       "      <td>8029</td>\n",
       "      <td>Russia</td>\n",
       "      <td>ios</td>\n",
       "      <td>male</td>\n",
       "      <td>B</td>\n",
       "      <td>0.0</td>\n",
       "      <td>0</td>\n",
       "    </tr>\n",
       "    <tr>\n",
       "      <th>1</th>\n",
       "      <td>1735</td>\n",
       "      <td>Sweden</td>\n",
       "      <td>ios</td>\n",
       "      <td>male</td>\n",
       "      <td>B</td>\n",
       "      <td>0.0</td>\n",
       "      <td>0</td>\n",
       "    </tr>\n",
       "  </tbody>\n",
       "</table>\n",
       "</div>"
      ],
      "text/plain": [
       "   user_id country platform   sex group  revenue  payment\n",
       "0     8029  Russia      ios  male     B      0.0        0\n",
       "1     1735  Sweden      ios  male     B      0.0        0"
      ]
     },
     "execution_count": 48,
     "metadata": {},
     "output_type": "execute_result"
    }
   ],
   "source": [
    "df_active_users.head(2)"
   ]
  },
  {
   "cell_type": "code",
   "execution_count": 49,
   "metadata": {},
   "outputs": [],
   "source": [
    "# создаем датафрейм df_CR\n",
    "# гпуппируя данные по группам, подсчитывая кол-во уникальных пользователей, сумму в колонке payment\n",
    "df_CR = df_active_users.groupby('group', as_index=False).agg({'user_id': 'count', 'payment': sum})"
   ]
  },
  {
   "cell_type": "code",
   "execution_count": 50,
   "metadata": {},
   "outputs": [],
   "source": [
    "# рассчитываем CR\n",
    "df_CR['CR'] = (df_CR.payment / df_CR.user_id).mul(100).round(2)"
   ]
  },
  {
   "cell_type": "code",
   "execution_count": 51,
   "metadata": {},
   "outputs": [
    {
     "data": {
      "text/html": [
       "<div>\n",
       "<style scoped>\n",
       "    .dataframe tbody tr th:only-of-type {\n",
       "        vertical-align: middle;\n",
       "    }\n",
       "\n",
       "    .dataframe tbody tr th {\n",
       "        vertical-align: top;\n",
       "    }\n",
       "\n",
       "    .dataframe thead th {\n",
       "        text-align: right;\n",
       "    }\n",
       "</style>\n",
       "<table border=\"1\" class=\"dataframe\">\n",
       "  <thead>\n",
       "    <tr style=\"text-align: right;\">\n",
       "      <th></th>\n",
       "      <th>group</th>\n",
       "      <th>user_id</th>\n",
       "      <th>payment</th>\n",
       "      <th>CR</th>\n",
       "    </tr>\n",
       "  </thead>\n",
       "  <tbody>\n",
       "    <tr>\n",
       "      <th>0</th>\n",
       "      <td>A</td>\n",
       "      <td>1538</td>\n",
       "      <td>78</td>\n",
       "      <td>5.07</td>\n",
       "    </tr>\n",
       "    <tr>\n",
       "      <th>1</th>\n",
       "      <td>B</td>\n",
       "      <td>6803</td>\n",
       "      <td>314</td>\n",
       "      <td>4.62</td>\n",
       "    </tr>\n",
       "  </tbody>\n",
       "</table>\n",
       "</div>"
      ],
      "text/plain": [
       "  group  user_id  payment    CR\n",
       "0     A     1538       78  5.07\n",
       "1     B     6803      314  4.62"
      ]
     },
     "execution_count": 51,
     "metadata": {},
     "output_type": "execute_result"
    }
   ],
   "source": [
    "df_CR"
   ]
  },
  {
   "cell_type": "markdown",
   "metadata": {},
   "source": [
    "Конверсия в покупку для контрольной группы составила 5.07%, для тестовой - 4.62%. Можно заметить, что конверсия упала на 8%, определим является ли эта разница статистически значимой с помощью теста ХИ-квадрат:"
   ]
  },
  {
   "cell_type": "code",
   "execution_count": 52,
   "metadata": {},
   "outputs": [],
   "source": [
    "chi2, pvalue, table = proportion.proportions_chisquare(df_CR['payment'], df_CR['user_id'])"
   ]
  },
  {
   "cell_type": "code",
   "execution_count": 53,
   "metadata": {},
   "outputs": [
    {
     "data": {
      "text/plain": [
       "0.44547028437158964"
      ]
     },
     "execution_count": 53,
     "metadata": {},
     "output_type": "execute_result"
    }
   ],
   "source": [
    "pvalue"
   ]
  },
  {
   "cell_type": "markdown",
   "metadata": {},
   "source": [
    "Таким образом, pvalue = 0.44, что больше 0.05, значит нельзя отклонить гипотезу о том, что статистически значимых различий нет. Рассчитаем мощность ХИ-критерия:"
   ]
  },
  {
   "cell_type": "code",
   "execution_count": 54,
   "metadata": {},
   "outputs": [],
   "source": [
    "CR_A = df_CR['CR'][0] / 100\n",
    "CR_B = df_CR['CR'][1] / 100"
   ]
  },
  {
   "cell_type": "code",
   "execution_count": 67,
   "metadata": {},
   "outputs": [],
   "source": [
    "# рассчитаем effect size\n",
    "ES = np.sqrt(((CR_A - CR_B) ** 2) / CR_B)"
   ]
  },
  {
   "cell_type": "code",
   "execution_count": 68,
   "metadata": {},
   "outputs": [
    {
     "data": {
      "text/plain": [
       "0.020935894733965614"
      ]
     },
     "execution_count": 68,
     "metadata": {},
     "output_type": "execute_result"
    }
   ],
   "source": [
    "ES"
   ]
  },
  {
   "cell_type": "code",
   "execution_count": 69,
   "metadata": {},
   "outputs": [
    {
     "data": {
      "text/plain": [
       "0.5797427318021494"
      ]
     },
     "execution_count": 69,
     "metadata": {},
     "output_type": "execute_result"
    }
   ],
   "source": [
    "# рассчитаем мощность критерия\n",
    "smp.GofChisquarePower().solve_power(ES, nobs=min(df_CR['user_id']), alpha=pvalue)"
   ]
  },
  {
   "cell_type": "code",
   "execution_count": 70,
   "metadata": {},
   "outputs": [
    {
     "data": {
      "text/plain": [
       "8954.0"
      ]
     },
     "execution_count": 70,
     "metadata": {},
     "output_type": "execute_result"
    }
   ],
   "source": [
    "# посчитаем, какое кол-во пользователей необходимо для того, чтобы получить желаемую мощность 0.8\n",
    "round(smp.GofChisquarePower().solve_power(ES, nobs=None, alpha=0.05, power=0.8) / 2, 0)"
   ]
  },
  {
   "cell_type": "markdown",
   "metadata": {},
   "source": [
    "Мощность теста низкая - 0.58, при норме > 0.8. Это означает, что мало шансов увидеть статистически значимую разницу, если она есть, и в 42 случаев из 100 мы разницу не увидим. Из этого следует, что, возможно, статистически значимая разница между конверсиями есть, но данный тест ее не выявил.\n",
    "Для увеличения мощности теста необходимо увелить количество пользователей в тестовой и контрольных группах до 8954 пользователей в каждой.  \n"
   ]
  },
  {
   "cell_type": "markdown",
   "metadata": {},
   "source": [
    "Посмотрим на конверсию в разбивке по странам:"
   ]
  },
  {
   "cell_type": "code",
   "execution_count": 71,
   "metadata": {},
   "outputs": [],
   "source": [
    "# расчет конверсии для России\n",
    "metrics_Russia = df_active_users.query('country == \"Russia\"')\\\n",
    "    .groupby('group', as_index=False)\\\n",
    "    .agg({'user_id': 'count', 'payment': sum})\n",
    "metrics_Russia['CR'] = (metrics_Russia.payment / metrics_Russia.user_id).mul(100).round(2)"
   ]
  },
  {
   "cell_type": "code",
   "execution_count": 72,
   "metadata": {},
   "outputs": [],
   "source": [
    "# расчет конверсии для Швеции\n",
    "metrics_Sweden = df_active_users.query('country == \"Sweden\"')\\\n",
    "    .groupby('group', as_index=False)\\\n",
    "    .agg({'user_id': 'count', 'payment': sum})\n",
    "metrics_Sweden['CR'] = (metrics_Sweden.payment / metrics_Sweden.user_id).mul(100).round(2)"
   ]
  },
  {
   "cell_type": "code",
   "execution_count": 73,
   "metadata": {},
   "outputs": [
    {
     "data": {
      "text/html": [
       "<div>\n",
       "<style scoped>\n",
       "    .dataframe tbody tr th:only-of-type {\n",
       "        vertical-align: middle;\n",
       "    }\n",
       "\n",
       "    .dataframe tbody tr th {\n",
       "        vertical-align: top;\n",
       "    }\n",
       "\n",
       "    .dataframe thead th {\n",
       "        text-align: right;\n",
       "    }\n",
       "</style>\n",
       "<table border=\"1\" class=\"dataframe\">\n",
       "  <thead>\n",
       "    <tr style=\"text-align: right;\">\n",
       "      <th></th>\n",
       "      <th>group</th>\n",
       "      <th>user_id</th>\n",
       "      <th>payment</th>\n",
       "      <th>CR</th>\n",
       "    </tr>\n",
       "  </thead>\n",
       "  <tbody>\n",
       "    <tr>\n",
       "      <th>0</th>\n",
       "      <td>A</td>\n",
       "      <td>915</td>\n",
       "      <td>43</td>\n",
       "      <td>4.70</td>\n",
       "    </tr>\n",
       "    <tr>\n",
       "      <th>1</th>\n",
       "      <td>B</td>\n",
       "      <td>4492</td>\n",
       "      <td>197</td>\n",
       "      <td>4.39</td>\n",
       "    </tr>\n",
       "  </tbody>\n",
       "</table>\n",
       "</div>"
      ],
      "text/plain": [
       "  group  user_id  payment    CR\n",
       "0     A      915       43  4.70\n",
       "1     B     4492      197  4.39"
      ]
     },
     "execution_count": 73,
     "metadata": {},
     "output_type": "execute_result"
    }
   ],
   "source": [
    "metrics_Russia"
   ]
  },
  {
   "cell_type": "code",
   "execution_count": 74,
   "metadata": {},
   "outputs": [],
   "source": [
    "chi2, pvalue_Ru, table = proportion.proportions_chisquare(metrics_Russia['payment'], metrics_Russia['user_id'])"
   ]
  },
  {
   "cell_type": "code",
   "execution_count": 75,
   "metadata": {},
   "outputs": [
    {
     "data": {
      "text/plain": [
       "0.674346253012943"
      ]
     },
     "execution_count": 75,
     "metadata": {},
     "output_type": "execute_result"
    }
   ],
   "source": [
    "pvalue_Ru"
   ]
  },
  {
   "cell_type": "code",
   "execution_count": 76,
   "metadata": {},
   "outputs": [
    {
     "data": {
      "text/html": [
       "<div>\n",
       "<style scoped>\n",
       "    .dataframe tbody tr th:only-of-type {\n",
       "        vertical-align: middle;\n",
       "    }\n",
       "\n",
       "    .dataframe tbody tr th {\n",
       "        vertical-align: top;\n",
       "    }\n",
       "\n",
       "    .dataframe thead th {\n",
       "        text-align: right;\n",
       "    }\n",
       "</style>\n",
       "<table border=\"1\" class=\"dataframe\">\n",
       "  <thead>\n",
       "    <tr style=\"text-align: right;\">\n",
       "      <th></th>\n",
       "      <th>group</th>\n",
       "      <th>user_id</th>\n",
       "      <th>payment</th>\n",
       "      <th>CR</th>\n",
       "    </tr>\n",
       "  </thead>\n",
       "  <tbody>\n",
       "    <tr>\n",
       "      <th>0</th>\n",
       "      <td>A</td>\n",
       "      <td>623</td>\n",
       "      <td>35</td>\n",
       "      <td>5.62</td>\n",
       "    </tr>\n",
       "    <tr>\n",
       "      <th>1</th>\n",
       "      <td>B</td>\n",
       "      <td>2311</td>\n",
       "      <td>117</td>\n",
       "      <td>5.06</td>\n",
       "    </tr>\n",
       "  </tbody>\n",
       "</table>\n",
       "</div>"
      ],
      "text/plain": [
       "  group  user_id  payment    CR\n",
       "0     A      623       35  5.62\n",
       "1     B     2311      117  5.06"
      ]
     },
     "execution_count": 76,
     "metadata": {},
     "output_type": "execute_result"
    }
   ],
   "source": [
    "metrics_Sweden"
   ]
  },
  {
   "cell_type": "code",
   "execution_count": 77,
   "metadata": {},
   "outputs": [],
   "source": [
    "chi2, pvalue_Sw, table = proportion.proportions_chisquare(metrics_Sweden['payment'], metrics_Sweden['user_id'])"
   ]
  },
  {
   "cell_type": "code",
   "execution_count": 78,
   "metadata": {},
   "outputs": [
    {
     "data": {
      "text/plain": [
       "0.578932365547989"
      ]
     },
     "execution_count": 78,
     "metadata": {},
     "output_type": "execute_result"
    }
   ],
   "source": [
    "pvalue_Sw"
   ]
  },
  {
   "cell_type": "markdown",
   "metadata": {},
   "source": [
    "Для обеих стран конверсия снизилась: для России с 4.7% до 4.39% (на 6.59%), для Швеции с 5.62% до 5.06% (на 9.9%). Критерий ХИ-квадрат показал, что в обоих случаях pvalue > 0.05, следовательно, статистически значимой разницы нет."
   ]
  },
  {
   "cell_type": "markdown",
   "metadata": {},
   "source": [
    "Аналогично проведем тесты в разбивке по платформам:"
   ]
  },
  {
   "cell_type": "code",
   "execution_count": 122,
   "metadata": {},
   "outputs": [],
   "source": [
    "# расчет конверсии для ios\n",
    "metrics_ios = df_active_users.query('platform == \"ios\"')\\\n",
    "    .groupby('group', as_index=False)\\\n",
    "    .agg({'user_id': 'count', 'payment': sum})\n",
    "metrics_ios['CR'] = (metrics_ios.payment / metrics_ios.user_id).mul(100).round(2)"
   ]
  },
  {
   "cell_type": "code",
   "execution_count": 80,
   "metadata": {},
   "outputs": [],
   "source": [
    "# расчет конверсии для android\n",
    "metrics_android = df_active_users.query('platform == \"android\"')\\\n",
    "    .groupby('group', as_index=False)\\\n",
    "    .agg({'user_id': 'count', 'payment': sum})\n",
    "metrics_android['CR'] = (metrics_android.payment / metrics_android.user_id).mul(100).round(2)"
   ]
  },
  {
   "cell_type": "code",
   "execution_count": 81,
   "metadata": {},
   "outputs": [
    {
     "data": {
      "text/html": [
       "<div>\n",
       "<style scoped>\n",
       "    .dataframe tbody tr th:only-of-type {\n",
       "        vertical-align: middle;\n",
       "    }\n",
       "\n",
       "    .dataframe tbody tr th {\n",
       "        vertical-align: top;\n",
       "    }\n",
       "\n",
       "    .dataframe thead th {\n",
       "        text-align: right;\n",
       "    }\n",
       "</style>\n",
       "<table border=\"1\" class=\"dataframe\">\n",
       "  <thead>\n",
       "    <tr style=\"text-align: right;\">\n",
       "      <th></th>\n",
       "      <th>group</th>\n",
       "      <th>user_id</th>\n",
       "      <th>payment</th>\n",
       "      <th>CR</th>\n",
       "    </tr>\n",
       "  </thead>\n",
       "  <tbody>\n",
       "    <tr>\n",
       "      <th>0</th>\n",
       "      <td>A</td>\n",
       "      <td>704</td>\n",
       "      <td>39</td>\n",
       "      <td>5.54</td>\n",
       "    </tr>\n",
       "    <tr>\n",
       "      <th>1</th>\n",
       "      <td>B</td>\n",
       "      <td>3016</td>\n",
       "      <td>145</td>\n",
       "      <td>4.81</td>\n",
       "    </tr>\n",
       "  </tbody>\n",
       "</table>\n",
       "</div>"
      ],
      "text/plain": [
       "  group  user_id  payment    CR\n",
       "0     A      704       39  5.54\n",
       "1     B     3016      145  4.81"
      ]
     },
     "execution_count": 81,
     "metadata": {},
     "output_type": "execute_result"
    }
   ],
   "source": [
    "metrics_ios"
   ]
  },
  {
   "cell_type": "code",
   "execution_count": 82,
   "metadata": {},
   "outputs": [],
   "source": [
    "chi2, pvalue_ios, table = proportion.proportions_chisquare(metrics_ios['payment'], metrics_ios['user_id'])"
   ]
  },
  {
   "cell_type": "code",
   "execution_count": 83,
   "metadata": {},
   "outputs": [
    {
     "data": {
      "text/plain": [
       "0.41988733815413914"
      ]
     },
     "execution_count": 83,
     "metadata": {},
     "output_type": "execute_result"
    }
   ],
   "source": [
    "pvalue_ios"
   ]
  },
  {
   "cell_type": "code",
   "execution_count": 84,
   "metadata": {},
   "outputs": [
    {
     "data": {
      "text/html": [
       "<div>\n",
       "<style scoped>\n",
       "    .dataframe tbody tr th:only-of-type {\n",
       "        vertical-align: middle;\n",
       "    }\n",
       "\n",
       "    .dataframe tbody tr th {\n",
       "        vertical-align: top;\n",
       "    }\n",
       "\n",
       "    .dataframe thead th {\n",
       "        text-align: right;\n",
       "    }\n",
       "</style>\n",
       "<table border=\"1\" class=\"dataframe\">\n",
       "  <thead>\n",
       "    <tr style=\"text-align: right;\">\n",
       "      <th></th>\n",
       "      <th>group</th>\n",
       "      <th>user_id</th>\n",
       "      <th>payment</th>\n",
       "      <th>CR</th>\n",
       "    </tr>\n",
       "  </thead>\n",
       "  <tbody>\n",
       "    <tr>\n",
       "      <th>0</th>\n",
       "      <td>A</td>\n",
       "      <td>834</td>\n",
       "      <td>39</td>\n",
       "      <td>4.68</td>\n",
       "    </tr>\n",
       "    <tr>\n",
       "      <th>1</th>\n",
       "      <td>B</td>\n",
       "      <td>3787</td>\n",
       "      <td>169</td>\n",
       "      <td>4.46</td>\n",
       "    </tr>\n",
       "  </tbody>\n",
       "</table>\n",
       "</div>"
      ],
      "text/plain": [
       "  group  user_id  payment    CR\n",
       "0     A      834       39  4.68\n",
       "1     B     3787      169  4.46"
      ]
     },
     "execution_count": 84,
     "metadata": {},
     "output_type": "execute_result"
    }
   ],
   "source": [
    "metrics_android"
   ]
  },
  {
   "cell_type": "code",
   "execution_count": 85,
   "metadata": {},
   "outputs": [],
   "source": [
    "chi2, pvalue_android, table = proportion.proportions_chisquare(metrics_android['payment'], metrics_android['user_id'])\n"
   ]
  },
  {
   "cell_type": "code",
   "execution_count": 86,
   "metadata": {},
   "outputs": [
    {
     "data": {
      "text/plain": [
       "0.787644893841505"
      ]
     },
     "execution_count": 86,
     "metadata": {},
     "output_type": "execute_result"
    }
   ],
   "source": [
    "pvalue_android"
   ]
  },
  {
   "cell_type": "markdown",
   "metadata": {},
   "source": [
    "Для обеих платформ конверсия снизилась: для ios с 5.54% до 4.81% (на 13%), для android с 4.68% до 4.46% (на 4.7%). Критерий ХИ-квадрат показал, что в обоих случаях pvalue > 0.05, следовательно, статистически значимой разницы нет."
   ]
  },
  {
   "cell_type": "markdown",
   "metadata": {},
   "source": [
    "Проведем тесты в разбивке по полу:"
   ]
  },
  {
   "cell_type": "code",
   "execution_count": 87,
   "metadata": {},
   "outputs": [],
   "source": [
    "# расчет конверсии для мужчин\n",
    "metrics_male = df_active_users.query('sex == \"male\"')\\\n",
    "    .groupby('group', as_index=False)\\\n",
    "    .agg({'user_id': 'count', 'payment': sum})\n",
    "metrics_male['CR'] = (metrics_male.payment / metrics_male.user_id).mul(100).round(2)"
   ]
  },
  {
   "cell_type": "code",
   "execution_count": 120,
   "metadata": {},
   "outputs": [
    {
     "data": {
      "text/html": [
       "<div>\n",
       "<style scoped>\n",
       "    .dataframe tbody tr th:only-of-type {\n",
       "        vertical-align: middle;\n",
       "    }\n",
       "\n",
       "    .dataframe tbody tr th {\n",
       "        vertical-align: top;\n",
       "    }\n",
       "\n",
       "    .dataframe thead th {\n",
       "        text-align: right;\n",
       "    }\n",
       "</style>\n",
       "<table border=\"1\" class=\"dataframe\">\n",
       "  <thead>\n",
       "    <tr style=\"text-align: right;\">\n",
       "      <th></th>\n",
       "      <th>group</th>\n",
       "      <th>user_id</th>\n",
       "      <th>payment</th>\n",
       "      <th>CR</th>\n",
       "    </tr>\n",
       "  </thead>\n",
       "  <tbody>\n",
       "    <tr>\n",
       "      <th>0</th>\n",
       "      <td>A</td>\n",
       "      <td>785</td>\n",
       "      <td>41</td>\n",
       "      <td>5.22</td>\n",
       "    </tr>\n",
       "    <tr>\n",
       "      <th>1</th>\n",
       "      <td>B</td>\n",
       "      <td>3411</td>\n",
       "      <td>160</td>\n",
       "      <td>4.69</td>\n",
       "    </tr>\n",
       "  </tbody>\n",
       "</table>\n",
       "</div>"
      ],
      "text/plain": [
       "  group  user_id  payment    CR\n",
       "0     A      785       41  5.22\n",
       "1     B     3411      160  4.69"
      ]
     },
     "execution_count": 120,
     "metadata": {},
     "output_type": "execute_result"
    }
   ],
   "source": [
    "metrics_male"
   ]
  },
  {
   "cell_type": "code",
   "execution_count": 89,
   "metadata": {},
   "outputs": [],
   "source": [
    "chi2, pvalue_male, table = proportion.proportions_chisquare(metrics_male['payment'], metrics_male['user_id'])"
   ]
  },
  {
   "cell_type": "code",
   "execution_count": 90,
   "metadata": {},
   "outputs": [
    {
     "data": {
      "text/plain": [
       "0.528988340798384"
      ]
     },
     "execution_count": 90,
     "metadata": {},
     "output_type": "execute_result"
    }
   ],
   "source": [
    "pvalue_male"
   ]
  },
  {
   "cell_type": "code",
   "execution_count": 91,
   "metadata": {},
   "outputs": [],
   "source": [
    "# расчет конверсии для женщин\n",
    "metrics_fem = df_active_users.query('sex == \"female\"')\\\n",
    "    .groupby('group', as_index=False)\\\n",
    "    .agg({'user_id': 'count', 'payment': sum})\n",
    "metrics_fem['CR'] = (metrics_fem.payment / metrics_fem.user_id).mul(100).round(2)"
   ]
  },
  {
   "cell_type": "code",
   "execution_count": 118,
   "metadata": {},
   "outputs": [
    {
     "data": {
      "text/html": [
       "<div>\n",
       "<style scoped>\n",
       "    .dataframe tbody tr th:only-of-type {\n",
       "        vertical-align: middle;\n",
       "    }\n",
       "\n",
       "    .dataframe tbody tr th {\n",
       "        vertical-align: top;\n",
       "    }\n",
       "\n",
       "    .dataframe thead th {\n",
       "        text-align: right;\n",
       "    }\n",
       "</style>\n",
       "<table border=\"1\" class=\"dataframe\">\n",
       "  <thead>\n",
       "    <tr style=\"text-align: right;\">\n",
       "      <th></th>\n",
       "      <th>group</th>\n",
       "      <th>user_id</th>\n",
       "      <th>payment</th>\n",
       "      <th>CR</th>\n",
       "    </tr>\n",
       "  </thead>\n",
       "  <tbody>\n",
       "    <tr>\n",
       "      <th>0</th>\n",
       "      <td>A</td>\n",
       "      <td>753</td>\n",
       "      <td>37</td>\n",
       "      <td>4.91</td>\n",
       "    </tr>\n",
       "    <tr>\n",
       "      <th>1</th>\n",
       "      <td>B</td>\n",
       "      <td>3392</td>\n",
       "      <td>154</td>\n",
       "      <td>4.54</td>\n",
       "    </tr>\n",
       "  </tbody>\n",
       "</table>\n",
       "</div>"
      ],
      "text/plain": [
       "  group  user_id  payment    CR\n",
       "0     A      753       37  4.91\n",
       "1     B     3392      154  4.54"
      ]
     },
     "execution_count": 118,
     "metadata": {},
     "output_type": "execute_result"
    }
   ],
   "source": [
    "metrics_fem"
   ]
  },
  {
   "cell_type": "code",
   "execution_count": 93,
   "metadata": {},
   "outputs": [],
   "source": [
    "chi2, pvalue_fem, table = proportion.proportions_chisquare(metrics_fem['payment'], metrics_fem['user_id'])"
   ]
  },
  {
   "cell_type": "code",
   "execution_count": 94,
   "metadata": {},
   "outputs": [
    {
     "data": {
      "text/plain": [
       "0.6582542140155113"
      ]
     },
     "execution_count": 94,
     "metadata": {},
     "output_type": "execute_result"
    }
   ],
   "source": [
    "pvalue_fem"
   ]
  },
  {
   "cell_type": "markdown",
   "metadata": {},
   "source": [
    "Для обоих полов конверсия снизилась: для мужчин с 5.22% до 4.69% (на 10%), для женщин с 4.91% до 4.54% (на 7.5%). Критерий ХИ-квадрат показал, что в обоих случаях pvalue > 0.05, следовательно, статистически значимой разницы нет."
   ]
  },
  {
   "cell_type": "markdown",
   "metadata": {},
   "source": [
    "**Выводы:** в разбивке по сегментам во всех случаях конверсия снизилась на 4-13%, однако тест ХИ-квадрат не выявил статистически значимой разницы."
   ]
  },
  {
   "cell_type": "markdown",
   "metadata": {},
   "source": [
    "### Средний чек "
   ]
  },
  {
   "cell_type": "markdown",
   "metadata": {},
   "source": [
    "***Гипотеза*** - изменение модели оплаты повлияло на средний чек (=ARPPU)\n",
    "\n",
    "H0 - статистически значимых изменений нет"
   ]
  },
  {
   "cell_type": "markdown",
   "metadata": {},
   "source": [
    "Для сравнения средних используются следующие методы:\n",
    "- t-тест (критерий Стьюдента)\n",
    "- bootstrap\n",
    "\n",
    "При этом, условия для t-теста - нормальность распределения, гомогенность дисперсии (в нашем случае первое условие не соблюдено). Однако, t-тест возможно использовать на ненормальных данных (при больших размерах данных и отсутствии выбросов). Для bootstrap такие условия не требуются.\n",
    "Для анализа используем оба способа и посмотрим, какие результаты они дадут. В случае если результаты будут отличаться, предпочтение будет отдаваться результатам bootstrap."
   ]
  },
  {
   "cell_type": "markdown",
   "metadata": {},
   "source": [
    "Посчитаем средний чек для обеих групп:"
   ]
  },
  {
   "cell_type": "code",
   "execution_count": 95,
   "metadata": {},
   "outputs": [
    {
     "data": {
      "text/html": [
       "<div>\n",
       "<style scoped>\n",
       "    .dataframe tbody tr th:only-of-type {\n",
       "        vertical-align: middle;\n",
       "    }\n",
       "\n",
       "    .dataframe tbody tr th {\n",
       "        vertical-align: top;\n",
       "    }\n",
       "\n",
       "    .dataframe thead th {\n",
       "        text-align: right;\n",
       "    }\n",
       "</style>\n",
       "<table border=\"1\" class=\"dataframe\">\n",
       "  <thead>\n",
       "    <tr style=\"text-align: right;\">\n",
       "      <th></th>\n",
       "      <th>user_id</th>\n",
       "      <th>country</th>\n",
       "      <th>platform</th>\n",
       "      <th>sex</th>\n",
       "      <th>group</th>\n",
       "      <th>revenue</th>\n",
       "    </tr>\n",
       "  </thead>\n",
       "  <tbody>\n",
       "    <tr>\n",
       "      <th>0</th>\n",
       "      <td>1202</td>\n",
       "      <td>Sweden</td>\n",
       "      <td>android</td>\n",
       "      <td>male</td>\n",
       "      <td>A</td>\n",
       "      <td>302.0</td>\n",
       "    </tr>\n",
       "    <tr>\n",
       "      <th>1</th>\n",
       "      <td>6284</td>\n",
       "      <td>Russia</td>\n",
       "      <td>android</td>\n",
       "      <td>female</td>\n",
       "      <td>B</td>\n",
       "      <td>208.0</td>\n",
       "    </tr>\n",
       "  </tbody>\n",
       "</table>\n",
       "</div>"
      ],
      "text/plain": [
       "   user_id country platform     sex group  revenue\n",
       "0     1202  Sweden  android    male     A    302.0\n",
       "1     6284  Russia  android  female     B    208.0"
      ]
     },
     "execution_count": 95,
     "metadata": {},
     "output_type": "execute_result"
    }
   ],
   "source": [
    "df_purchases.head(2)"
   ]
  },
  {
   "cell_type": "code",
   "execution_count": 96,
   "metadata": {},
   "outputs": [],
   "source": [
    "avg_check = df_purchases.groupby('group', as_index=False).agg({'revenue': \"mean\"}).round(2)"
   ]
  },
  {
   "cell_type": "code",
   "execution_count": 97,
   "metadata": {},
   "outputs": [
    {
     "data": {
      "text/html": [
       "<div>\n",
       "<style scoped>\n",
       "    .dataframe tbody tr th:only-of-type {\n",
       "        vertical-align: middle;\n",
       "    }\n",
       "\n",
       "    .dataframe tbody tr th {\n",
       "        vertical-align: top;\n",
       "    }\n",
       "\n",
       "    .dataframe thead th {\n",
       "        text-align: right;\n",
       "    }\n",
       "</style>\n",
       "<table border=\"1\" class=\"dataframe\">\n",
       "  <thead>\n",
       "    <tr style=\"text-align: right;\">\n",
       "      <th></th>\n",
       "      <th>group</th>\n",
       "      <th>revenue</th>\n",
       "    </tr>\n",
       "  </thead>\n",
       "  <tbody>\n",
       "    <tr>\n",
       "      <th>0</th>\n",
       "      <td>A</td>\n",
       "      <td>943.56</td>\n",
       "    </tr>\n",
       "    <tr>\n",
       "      <th>1</th>\n",
       "      <td>B</td>\n",
       "      <td>1267.88</td>\n",
       "    </tr>\n",
       "  </tbody>\n",
       "</table>\n",
       "</div>"
      ],
      "text/plain": [
       "  group  revenue\n",
       "0     A   943.56\n",
       "1     B  1267.88"
      ]
     },
     "execution_count": 97,
     "metadata": {},
     "output_type": "execute_result"
    }
   ],
   "source": [
    "avg_check"
   ]
  },
  {
   "cell_type": "markdown",
   "metadata": {},
   "source": [
    "В результате средний чек вырос с 943 до 1267 рублей (на 34.3%). Проверим с помощью t-теста статистически значима ли эта разница:"
   ]
  },
  {
   "cell_type": "code",
   "execution_count": 98,
   "metadata": {},
   "outputs": [
    {
     "data": {
      "text/plain": [
       "Ttest_indResult(statistic=-3.134033935298925, pvalue=0.0018546337642145053)"
      ]
     },
     "execution_count": 98,
     "metadata": {},
     "output_type": "execute_result"
    }
   ],
   "source": [
    "stats.ttest_ind(df_purchases[df_purchases['group'] == 'A'].revenue, df_purchases[df_purchases['group'] == 'B'].revenue)"
   ]
  },
  {
   "cell_type": "markdown",
   "metadata": {},
   "source": [
    "В результате, pvalue < 0.05, следовательно, мы отклоняем нулевую гипотезу, т.е. различия статистически значимы. "
   ]
  },
  {
   "cell_type": "markdown",
   "metadata": {},
   "source": [
    "Посмотрим на результаты bootstrap анализа:"
   ]
  },
  {
   "cell_type": "code",
   "execution_count": 112,
   "metadata": {},
   "outputs": [],
   "source": [
    "# Объявим функцию, которая позволит проверять гипотезы с помощью бутстрапа\n",
    "def get_bootstrap(\n",
    "    data_column_1,\n",
    "    data_column_2,\n",
    "    boot_it,\n",
    "    statistic=np.mean,\n",
    "    bootstrap_conf_level=0.95\n",
    "):\n",
    "    # data_column_1 числовые значения первой выборки\n",
    "    # data_column_2 числовые значения второй выборки\n",
    "    # boot_it количество бутстрэп-подвыборок\n",
    "    # statistic  интересующая нас статистика\n",
    "    # bootstrap_conf_level  уровень значимости\n",
    "    \n",
    "    boot_len = max([len(data_column_1), len(data_column_2)])\n",
    "    boot_data = []\n",
    "    # извлекаем подвыборки\n",
    "    for i in range(boot_it): \n",
    "        samples_1 = data_column_1.sample(\n",
    "            boot_len, \n",
    "            replace=True \n",
    "        ).values\n",
    "        \n",
    "        samples_2 = data_column_2.sample(\n",
    "            boot_len, \n",
    "            replace=True\n",
    "        ).values\n",
    "        # mean() - применяем статистику\n",
    "        boot_data.append(statistic(samples_1) - statistic(samples_2))        \n",
    "    pd_boot_data = pd.DataFrame(boot_data)                               \n",
    "    left_quant = (1 - bootstrap_conf_level) / 2\n",
    "    right_quant = 1 - (1 - bootstrap_conf_level) / 2\n",
    "    ci = pd_boot_data.quantile([left_quant, right_quant])        \n",
    "    p_1 = norm.cdf(\n",
    "        x=0, \n",
    "        loc=np.mean(boot_data), \n",
    "        scale=np.std(boot_data)\n",
    "    )\n",
    "    p_2 = norm.cdf(\n",
    "        x=0, \n",
    "        loc=-np.mean(boot_data), \n",
    "        scale=np.std(boot_data)\n",
    "    )\n",
    "    p_value = min(p_1, p_2) * 2\n",
    "    print(f'pvalue = {p_value}')      \n",
    "    return {\"boot_data\": pd_boot_data, \n",
    "            \"ci\": ci}"
   ]
  },
  {
   "cell_type": "code",
   "execution_count": 113,
   "metadata": {},
   "outputs": [],
   "source": [
    "# Объявим функцию, которая позволит визуализировать результаты бустрапа\n",
    "def vizualization(pd_boot_data, ci):\n",
    "    # pd_boot_data - данные, полученные в результате бустрапа\n",
    "    # ci - доверительный интервал    \n",
    "    plt.figure(figsize=(15, 5))\n",
    "    sns.histplot(pd_boot_data[0], bins=50, color='skyblue')    \n",
    "    plt.style.use('ggplot')\n",
    "    plt.vlines(ci, ymin=0, ymax=100, linestyle='--')\n",
    "    plt.vlines(x=0, ymin=0, ymax=100, color='red', linestyle='--')    \n",
    "    plt.xlabel('boot_data')\n",
    "    plt.ylabel('frequency')\n",
    "    plt.title(\"Bootstrap-распределение разниц среднего чека\")\n",
    "    plt.show()"
   ]
  },
  {
   "cell_type": "code",
   "execution_count": 111,
   "metadata": {},
   "outputs": [
    {
     "name": "stdout",
     "output_type": "stream",
     "text": [
      "pvalue = 9.7937783378869e-07\n"
     ]
    },
    {
     "data": {
      "image/png": "[encoded data removed]",
      "text/plain": [
       "<Figure size 1080x360 with 1 Axes>"
      ]
     },
     "metadata": {},
     "output_type": "display_data"
    }
   ],
   "source": [
    "# проведем bootstrap-анализ\n",
    "control = df_purchases[df_purchases['group'] == 'A'].revenue\n",
    "test = df_purchases[df_purchases['group'] == 'B'].revenue\n",
    "# применяем bootstrap\n",
    "bootstrap_result = get_bootstrap(test, control, 2000)\n",
    "boot_data = bootstrap_result['boot_data']\n",
    "ci = bootstrap_result['ci']\n",
    "vizualization(boot_data, ci)"
   ]
  },
  {
   "cell_type": "markdown",
   "metadata": {},
   "source": [
    "Как видно из полученной диаграммы, 0 не попадает в доверительный интервал, а pvalue < 0.05. Это означает, что различия среднего чека в тестовой и контрольной группе статистически значимы. "
   ]
  },
  {
   "cell_type": "markdown",
   "metadata": {},
   "source": [
    "Таким образом, и t-тест и bootstrap показали статистически значимые изменения среднего чека."
   ]
  },
  {
   "cell_type": "markdown",
   "metadata": {},
   "source": [
    "В результате, конверсия понизилась, а средний чек увеличился.\n",
    "Посмотрим, как это повлияло на cредний доход с привлечённого пользователя: ARPU = конверсия * ARPPU:"
   ]
  },
  {
   "cell_type": "code",
   "execution_count": 102,
   "metadata": {},
   "outputs": [],
   "source": [
    "metrics = avg_check.merge(df_CR, on=['group'])"
   ]
  },
  {
   "cell_type": "code",
   "execution_count": 114,
   "metadata": {},
   "outputs": [],
   "source": [
    "metrics['ARPU'] = (metrics.revenue * (metrics.CR / 100)).round(2)"
   ]
  },
  {
   "cell_type": "code",
   "execution_count": 104,
   "metadata": {},
   "outputs": [
    {
     "data": {
      "text/html": [
       "<div>\n",
       "<style scoped>\n",
       "    .dataframe tbody tr th:only-of-type {\n",
       "        vertical-align: middle;\n",
       "    }\n",
       "\n",
       "    .dataframe tbody tr th {\n",
       "        vertical-align: top;\n",
       "    }\n",
       "\n",
       "    .dataframe thead th {\n",
       "        text-align: right;\n",
       "    }\n",
       "</style>\n",
       "<table border=\"1\" class=\"dataframe\">\n",
       "  <thead>\n",
       "    <tr style=\"text-align: right;\">\n",
       "      <th></th>\n",
       "      <th>group</th>\n",
       "      <th>revenue</th>\n",
       "      <th>user_id</th>\n",
       "      <th>payment</th>\n",
       "      <th>CR</th>\n",
       "      <th>ARPU</th>\n",
       "    </tr>\n",
       "  </thead>\n",
       "  <tbody>\n",
       "    <tr>\n",
       "      <th>0</th>\n",
       "      <td>A</td>\n",
       "      <td>943.56</td>\n",
       "      <td>1538</td>\n",
       "      <td>78</td>\n",
       "      <td>5.07</td>\n",
       "      <td>47.84</td>\n",
       "    </tr>\n",
       "    <tr>\n",
       "      <th>1</th>\n",
       "      <td>B</td>\n",
       "      <td>1267.88</td>\n",
       "      <td>6803</td>\n",
       "      <td>314</td>\n",
       "      <td>4.62</td>\n",
       "      <td>58.58</td>\n",
       "    </tr>\n",
       "  </tbody>\n",
       "</table>\n",
       "</div>"
      ],
      "text/plain": [
       "  group  revenue  user_id  payment    CR   ARPU\n",
       "0     A   943.56     1538       78  5.07  47.84\n",
       "1     B  1267.88     6803      314  4.62  58.58"
      ]
     },
     "execution_count": 104,
     "metadata": {},
     "output_type": "execute_result"
    }
   ],
   "source": [
    "metrics"
   ]
  },
  {
   "cell_type": "markdown",
   "metadata": {},
   "source": [
    "ARPU повысился с 47.84 до 58.58 (на 22.4%)"
   ]
  },
  {
   "cell_type": "markdown",
   "metadata": {},
   "source": [
    "--------------------------------------"
   ]
  },
  {
   "cell_type": "markdown",
   "metadata": {},
   "source": [
    "Посмотрим как изменился средний чек в разрезе пользователей (по странам, платформам, полу) с помощью bootstrap:"
   ]
  },
  {
   "cell_type": "code",
   "execution_count": 116,
   "metadata": {},
   "outputs": [
    {
     "name": "stdout",
     "output_type": "stream",
     "text": [
      "pvalue = 0.029569313318502037\n"
     ]
    },
    {
     "data": {
      "image/png": "[encoded data removed]",
      "text/plain": [
       "<Figure size 1080x360 with 1 Axes>"
      ]
     },
     "metadata": {},
     "output_type": "display_data"
    }
   ],
   "source": [
    "# для пользователей из Швеции\n",
    "control_sweden = df_purchases[(df_purchases['group'] == 'A') & (df_purchases['country'] == \"Sweden\")].revenue \n",
    "test_sweden = df_purchases[(df_purchases['group'] == 'B') & (df_purchases['country'] == \"Sweden\")].revenue\n",
    "# применяем bootstrap\n",
    "bootstrap_result = get_bootstrap(test_sweden, control_sweden, 2000)\n",
    "boot_data = bootstrap_result['boot_data']\n",
    "ci = bootstrap_result['ci']\n",
    "vizualization(boot_data, ci)"
   ]
  },
  {
   "cell_type": "markdown",
   "metadata": {},
   "source": [
    "Для Швеции - 0 не попал в доверительный интервал, значит, статистически значимая разница есть."
   ]
  },
  {
   "cell_type": "code",
   "execution_count": 115,
   "metadata": {},
   "outputs": [
    {
     "name": "stdout",
     "output_type": "stream",
     "text": [
      "pvalue = 4.017253811832871e-07\n"
     ]
    },
    {
     "data": {
      "image/png": "[encoded data removed]",
      "text/plain": [
       "<Figure size 1080x360 with 1 Axes>"
      ]
     },
     "metadata": {},
     "output_type": "display_data"
    }
   ],
   "source": [
    "# для пользователей из России\n",
    "control_russia = df_purchases[(df_purchases['group'] == 'A') & (df_purchases['country'] == \"Russia\")].revenue \n",
    "test_russia = df_purchases[(df_purchases['group'] == 'B') & (df_purchases['country'] == \"Russia\")].revenue\n",
    "# применяем bootstrap\n",
    "bootstrap_result = get_bootstrap(test_russia, control_russia, 2000)\n",
    "boot_data = bootstrap_result['boot_data']\n",
    "ci = bootstrap_result['ci']\n",
    "vizualization(boot_data, ci)"
   ]
  },
  {
   "cell_type": "markdown",
   "metadata": {},
   "source": [
    "Для России - 0  не попал в доверительный интервал, значит, что разница статистически значима."
   ]
  },
  {
   "cell_type": "code",
   "execution_count": 106,
   "metadata": {},
   "outputs": [
    {
     "name": "stdout",
     "output_type": "stream",
     "text": [
      "pvalue = 2.1225640091299166e-05\n"
     ]
    },
    {
     "data": {
      "image/png": "[encoded data removed]",
      "text/plain": [
       "<Figure size 1080x360 with 1 Axes>"
      ]
     },
     "metadata": {},
     "output_type": "display_data"
    }
   ],
   "source": [
    "# для пользователей ios\n",
    "control_ios = df_purchases[(df_purchases['group'] == 'A') & (df_purchases['platform'] == \"ios\")].revenue \n",
    "test_ios = df_purchases[(df_purchases['group'] == 'B') & (df_purchases['platform'] == \"ios\")].revenue\n",
    "# применяем bootstrap\n",
    "bootstrap_result = get_bootstrap(test_ios, control_ios, 2000)\n",
    "boot_data = bootstrap_result['boot_data']\n",
    "ci = bootstrap_result['ci']\n",
    "vizualization(boot_data, ci)"
   ]
  },
  {
   "cell_type": "markdown",
   "metadata": {},
   "source": [
    "Для пользователей ios - 0  не попал в доверительный интервал, значит, что разница статистически значима."
   ]
  },
  {
   "cell_type": "code",
   "execution_count": 108,
   "metadata": {},
   "outputs": [
    {
     "name": "stdout",
     "output_type": "stream",
     "text": [
      "pvalue = 0.019776964211512562\n"
     ]
    },
    {
     "data": {
      "image/png": "[encoded data removed]",
      "text/plain": [
       "<Figure size 1080x360 with 1 Axes>"
      ]
     },
     "metadata": {},
     "output_type": "display_data"
    }
   ],
   "source": [
    "# для пользователей android\n",
    "control_android = df_purchases[(df_purchases['group'] == 'A') & (df_purchases['platform'] == \"android\")].revenue \n",
    "test_android = df_purchases[(df_purchases['group'] == 'B') & (df_purchases['platform'] == \"android\")].revenue\n",
    "# применяем bootstrap\n",
    "bootstrap_result = get_bootstrap(test_android, control_android, 2000)\n",
    "boot_data = bootstrap_result['boot_data']\n",
    "ci = bootstrap_result['ci']\n",
    "vizualization(boot_data, ci)"
   ]
  },
  {
   "cell_type": "markdown",
   "metadata": {},
   "source": [
    "Для пользователей android - 0 не попал в доверительный интервал, значит, что разница статистически значима."
   ]
  },
  {
   "cell_type": "code",
   "execution_count": 109,
   "metadata": {},
   "outputs": [
    {
     "name": "stdout",
     "output_type": "stream",
     "text": [
      "pvalue = 0.11202719371796875\n"
     ]
    },
    {
     "data": {
      "image/png": "[encoded data removed]",
      "text/plain": [
       "<Figure size 1080x360 with 1 Axes>"
      ]
     },
     "metadata": {},
     "output_type": "display_data"
    }
   ],
   "source": [
    "# для пользователей мужчин\n",
    "control_male = df_purchases[(df_purchases['group'] == 'A') & (df_purchases['sex'] == \"male\")].revenue \n",
    "test_male = df_purchases[(df_purchases['group'] == 'B') & (df_purchases['sex'] == \"male\")].revenue\n",
    "# применяем bootstrap\n",
    "bootstrap_result = get_bootstrap(test_male, control_male, 2000)\n",
    "boot_data = bootstrap_result['boot_data']\n",
    "ci = bootstrap_result['ci']\n",
    "vizualization(boot_data, ci)"
   ]
  },
  {
   "cell_type": "markdown",
   "metadata": {},
   "source": [
    "Для мужчин - 0 попал в доверительный интервал, значит, что статистически значимой разницы для тестовой и контрольных групп не обнаружено."
   ]
  },
  {
   "cell_type": "code",
   "execution_count": 110,
   "metadata": {},
   "outputs": [
    {
     "name": "stdout",
     "output_type": "stream",
     "text": [
      "pvalue = 5.0646583498735765e-08\n"
     ]
    },
    {
     "data": {
      "image/png": "[encoded data removed]",
      "text/plain": [
       "<Figure size 1080x360 with 1 Axes>"
      ]
     },
     "metadata": {},
     "output_type": "display_data"
    }
   ],
   "source": [
    "# для пользователей женщин\n",
    "control_fem = df_purchases[(df_purchases['group'] == 'A') & (df_purchases['sex'] == \"female\")].revenue \n",
    "test_fem = df_purchases[(df_purchases['group'] == 'B') & (df_purchases['sex'] == \"female\")].revenue\n",
    "# применяем bootstrap\n",
    "bootstrap_result = get_bootstrap(test_fem, control_fem, 2000)\n",
    "boot_data = bootstrap_result['boot_data']\n",
    "ci = bootstrap_result['ci']\n",
    "vizualization(boot_data, ci)"
   ]
  },
  {
   "cell_type": "markdown",
   "metadata": {},
   "source": [
    "Для женщин - 0  не попал в доверительный интервал, значит, что разница статистически значима."
   ]
  },
  {
   "cell_type": "markdown",
   "metadata": {},
   "source": [
    "Таким образом, мы получили статистически значимую разницу для пользователей из обеих стран, обеих платформ и женщин."
   ]
  },
  {
   "cell_type": "markdown",
   "metadata": {},
   "source": [
    "## Выводы"
   ]
  },
  {
   "cell_type": "markdown",
   "metadata": {},
   "source": [
    "В ходе анализа были получены следующие результаты: \n",
    "\n",
    "- В данных были найдены и исключены из анализа 149 пользователей, которые не посещали приложение во время эксперимента. \n",
    "- Данные в контрольной и тестовой группы несбалансированные по группам пользователей (странам, платформам), что говорит об ошибке в системе сплитования, следовательно, выводы по таким данным неоднозначны и полученные результаты могут объясняться этой ошибкой. \n",
    "\n",
    "***Конверсия:***\n",
    "\n",
    "- конверсия в покупку **(СR)** *упала* с **5.07%** до **4.62%** (на **8%**);\n",
    "- анализ по сегментам (странам, платформам, полу) также показало уменьшение конверсии на 4.7-13%\n",
    "\n",
    "Конверсия была проанлизирована с помощью ХИ-квадрата, который **не выявил статистически значимых различий**. Однако стоит учитывать низкую мощность теста (0.58) и возможность наличия статистически значимых различий, которые тест не смог выявить. \n",
    "\n",
    "***Средний чек (ARPPU):***\n",
    "\n",
    "- средний чек *увеличился* с **943** до **1267** рублей (на **34.3%**)\n",
    "- анализ по сегментам показал увеличение среднего чека для пользователей из обеих стран, платформ, полов. \n",
    "\n",
    "Средний чек был проанализирован с помощью t-теста и и bootstrap, которые показали одинаковый результат - **разница статистически значима**. Анализ по сегментам был проведен с помощью bootstap. Для обеих стран (Россия, Швеция), платформ(ios, android) и женщин разница оказалась статистически значимой (для мужчин тест разницы не выявил). \n",
    "\n",
    "***ARPU:***\n",
    "\n",
    "- ARPU *повысился* с **47.84** до **58.58** рублей (на **22.4%**)\n",
    "\n",
    "В результате ARPU повысился, не смотря на уменьшении конверсии (уменьшение конверсии нивелировалось увеличением среднего чека).\n",
    "\n",
    "**Заключение и рекомендации:**\n",
    "\n",
    "В целом, новая модель оплаты показала **положительные результаты (увеличился доход)**, поэтому **можно выкатывать новую модель** на всех пользователей. \n",
    "\n",
    "Если есть возможность, стоит починить систему сплитования, чтобы выборки стали более сбалансированными, провести эксперимент заново, повысить длительность, чтобы набрать большее количество данных и повысить мощности тестов.\n"
   ]
  },
  {
   "cell_type": "markdown",
   "metadata": {},
   "source": [
    "------"
   ]
  },
  {
   "cell_type": "markdown",
   "metadata": {},
   "source": [
    "# Задание 2"
   ]
  },
  {
   "cell_type": "markdown",
   "metadata": {},
   "source": [
    "**Условие:** одной из основных задач аналитика является не только построение моделей, но и создание дашбордов, которые позволяют отслеживать изменения метрик и принимать на их основе оптимальные решения. Ваш руководитель хочет узнать, как обстоят дела с использованием приложения и вовлечённостью пользователей, и очень просит спроектировать ему дашборд."
   ]
  },
  {
   "cell_type": "markdown",
   "metadata": {},
   "source": [
    "Дашборд был построен по имеющимся данным:\n",
    "\n",
    "- active_users – информация о пользователях, которые посещали приложение во время эксперимента. \n",
    "- groups – разбивка пользователей на контрольную (А) и тестовую (В) группы. \n",
    "- purchases – данные о транзакциях (оплатах) пользователей приложения во время эксперимента "
   ]
  },
  {
   "cell_type": "markdown",
   "metadata": {},
   "source": [
    "Ссылка на дашборд:\n",
    "https://public.tableau.com/app/profile/anastasia.prokhorova/viz/project4_16515876673680/Dashboard1"
   ]
  }
 ],
 "metadata": {
  "kernelspec": {
   "display_name": "Python 3",
   "language": "python",
   "name": "python3"
  },
  "language_info": {
   "codemirror_mode": {
    "name": "ipython",
    "version": 3
   },
   "file_extension": ".py",
   "mimetype": "text/x-python",
   "name": "python",
   "nbconvert_exporter": "python",
   "pygments_lexer": "ipython3",
   "version": "3.7.3"
  }
 },
 "nbformat": 4,
 "nbformat_minor": 4
}
